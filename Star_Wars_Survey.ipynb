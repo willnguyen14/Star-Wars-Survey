{
 "cells": [
  {
   "cell_type": "markdown",
   "metadata": {},
   "source": [
    "# **Determining the Best Product to Capitalize On — Analyzing Audience Trends and Preferences in \"Star Wars\"**\n",
    "\n",
    "In this analysis project, we are going to find what exactly do the fans favor the most about in the \"Star Wars\" franchise. This includes who are the most favorite characters and which of the movies (Episodes 1-6) are considered to be the best. To also better understand our audience, we will also be looking into whether there's any differences in patterns between respondents who consider themselves fans against those who don't. By being able to better understand what audiences like and what they don't like about the franchise, there can be a more clear and better optimized direction in product marketing to make the most out of investments into the \"Star Wars\" franchise.\n",
    "\n",
    "The primary question to dive into is whether fans consider \"Star Wars Episode V: The Empire Strikes Back\" to be the best across all of the movies. \n",
    "We will be:\n",
    " - analyzing how many of the respondents have watched each of the movies\n",
    " - what each average rating is for each movie is\n",
    " - create visualizations of: \n",
    "   - who the most and least favorite characters are and who fans are \n",
    "   - who the most unfamiliar characters are \n",
    "   - which movies the top characters are in, which can also support which movie is also the most favorite\n",
    "\n",
    "### **Summary of Results** \n",
    "By the end of the project we will have found that \"Star Wars Episode V: The Empire Strikes Back\" is indeed the most popular and highest rated movie, with \"Star Wars Episode VI: Return of the Jedi\" as a close second. There are many characters making prominant appearances in Episode V — including Han Solo, Yoda, and Luke Skywalker — that are popular favorites. These findings makes the answer clear that fans prefer not just Episode V over all of the movies, but that they also they prefer the Original Trilogy over the Prequel Trilogy overall by a large margin."
   ]
  },
  {
   "cell_type": "markdown",
   "metadata": {},
   "source": [
    "---"
   ]
  },
  {
   "cell_type": "markdown",
   "metadata": {},
   "source": [
    "# **Reading in the Dataset**\n",
    "In the analysis below, our data will be taken from a survey of 835 total responses by a team at [FiveThirtyEight](https://fivethirtyeight.com/). You can download the survey data at their [GitHub repository](https://github.com/fivethirtyeight/data/tree/master/star-wars-survey) or at [my own repository](https://github.com/willnguyen14/Star-Wars-Survey) for this project."
   ]
  },
  {
   "cell_type": "code",
   "execution_count": 1,
   "metadata": {},
   "outputs": [
    {
     "name": "stdout",
     "output_type": "stream",
     "text": [
      "Index(['RespondentID',\n",
      "       'Have you seen any of the 6 films in the Star Wars franchise?',\n",
      "       'Do you consider yourself to be a fan of the Star Wars film franchise?',\n",
      "       'Which of the following Star Wars films have you seen? Please select all that apply.',\n",
      "       'Unnamed: 4', 'Unnamed: 5', 'Unnamed: 6', 'Unnamed: 7', 'Unnamed: 8',\n",
      "       'Please rank the Star Wars films in order of preference with 1 being your favorite film in the franchise and 6 being your least favorite film.',\n",
      "       'Unnamed: 10', 'Unnamed: 11', 'Unnamed: 12', 'Unnamed: 13',\n",
      "       'Unnamed: 14',\n",
      "       'Please state whether you view the following characters favorably, unfavorably, or are unfamiliar with him/her.',\n",
      "       'Unnamed: 16', 'Unnamed: 17', 'Unnamed: 18', 'Unnamed: 19',\n",
      "       'Unnamed: 20', 'Unnamed: 21', 'Unnamed: 22', 'Unnamed: 23',\n",
      "       'Unnamed: 24', 'Unnamed: 25', 'Unnamed: 26', 'Unnamed: 27',\n",
      "       'Unnamed: 28', 'Which character shot first?',\n",
      "       'Are you familiar with the Expanded Universe?',\n",
      "       'Do you consider yourself to be a fan of the Expanded Universe?ÂÃ¦',\n",
      "       'Do you consider yourself to be a fan of the Star Trek franchise?',\n",
      "       'Gender', 'Age', 'Household Income', 'Education',\n",
      "       'Location (Census Region)'],\n",
      "      dtype='object')\n"
     ]
    },
    {
     "data": {
      "text/html": [
       "<div>\n",
       "<style scoped>\n",
       "    .dataframe tbody tr th:only-of-type {\n",
       "        vertical-align: middle;\n",
       "    }\n",
       "\n",
       "    .dataframe tbody tr th {\n",
       "        vertical-align: top;\n",
       "    }\n",
       "\n",
       "    .dataframe thead th {\n",
       "        text-align: right;\n",
       "    }\n",
       "</style>\n",
       "<table border=\"1\" class=\"dataframe\">\n",
       "  <thead>\n",
       "    <tr style=\"text-align: right;\">\n",
       "      <th></th>\n",
       "      <th>RespondentID</th>\n",
       "      <th>Have you seen any of the 6 films in the Star Wars franchise?</th>\n",
       "      <th>Do you consider yourself to be a fan of the Star Wars film franchise?</th>\n",
       "      <th>Which of the following Star Wars films have you seen? Please select all that apply.</th>\n",
       "      <th>Unnamed: 4</th>\n",
       "      <th>Unnamed: 5</th>\n",
       "      <th>Unnamed: 6</th>\n",
       "      <th>Unnamed: 7</th>\n",
       "      <th>Unnamed: 8</th>\n",
       "      <th>Please rank the Star Wars films in order of preference with 1 being your favorite film in the franchise and 6 being your least favorite film.</th>\n",
       "      <th>...</th>\n",
       "      <th>Unnamed: 28</th>\n",
       "      <th>Which character shot first?</th>\n",
       "      <th>Are you familiar with the Expanded Universe?</th>\n",
       "      <th>Do you consider yourself to be a fan of the Expanded Universe?ÂÃ¦</th>\n",
       "      <th>Do you consider yourself to be a fan of the Star Trek franchise?</th>\n",
       "      <th>Gender</th>\n",
       "      <th>Age</th>\n",
       "      <th>Household Income</th>\n",
       "      <th>Education</th>\n",
       "      <th>Location (Census Region)</th>\n",
       "    </tr>\n",
       "  </thead>\n",
       "  <tbody>\n",
       "    <tr>\n",
       "      <th>0</th>\n",
       "      <td>NaN</td>\n",
       "      <td>Response</td>\n",
       "      <td>Response</td>\n",
       "      <td>Star Wars: Episode I  The Phantom Menace</td>\n",
       "      <td>Star Wars: Episode II  Attack of the Clones</td>\n",
       "      <td>Star Wars: Episode III  Revenge of the Sith</td>\n",
       "      <td>Star Wars: Episode IV  A New Hope</td>\n",
       "      <td>Star Wars: Episode V The Empire Strikes Back</td>\n",
       "      <td>Star Wars: Episode VI Return of the Jedi</td>\n",
       "      <td>Star Wars: Episode I  The Phantom Menace</td>\n",
       "      <td>...</td>\n",
       "      <td>Yoda</td>\n",
       "      <td>Response</td>\n",
       "      <td>Response</td>\n",
       "      <td>Response</td>\n",
       "      <td>Response</td>\n",
       "      <td>Response</td>\n",
       "      <td>Response</td>\n",
       "      <td>Response</td>\n",
       "      <td>Response</td>\n",
       "      <td>Response</td>\n",
       "    </tr>\n",
       "    <tr>\n",
       "      <th>1</th>\n",
       "      <td>3.292880e+09</td>\n",
       "      <td>Yes</td>\n",
       "      <td>Yes</td>\n",
       "      <td>Star Wars: Episode I  The Phantom Menace</td>\n",
       "      <td>Star Wars: Episode II  Attack of the Clones</td>\n",
       "      <td>Star Wars: Episode III  Revenge of the Sith</td>\n",
       "      <td>Star Wars: Episode IV  A New Hope</td>\n",
       "      <td>Star Wars: Episode V The Empire Strikes Back</td>\n",
       "      <td>Star Wars: Episode VI Return of the Jedi</td>\n",
       "      <td>3</td>\n",
       "      <td>...</td>\n",
       "      <td>Very favorably</td>\n",
       "      <td>I don't understand this question</td>\n",
       "      <td>Yes</td>\n",
       "      <td>No</td>\n",
       "      <td>No</td>\n",
       "      <td>Male</td>\n",
       "      <td>18-29</td>\n",
       "      <td>NaN</td>\n",
       "      <td>High school degree</td>\n",
       "      <td>South Atlantic</td>\n",
       "    </tr>\n",
       "    <tr>\n",
       "      <th>2</th>\n",
       "      <td>3.292880e+09</td>\n",
       "      <td>No</td>\n",
       "      <td>NaN</td>\n",
       "      <td>NaN</td>\n",
       "      <td>NaN</td>\n",
       "      <td>NaN</td>\n",
       "      <td>NaN</td>\n",
       "      <td>NaN</td>\n",
       "      <td>NaN</td>\n",
       "      <td>NaN</td>\n",
       "      <td>...</td>\n",
       "      <td>NaN</td>\n",
       "      <td>NaN</td>\n",
       "      <td>NaN</td>\n",
       "      <td>NaN</td>\n",
       "      <td>Yes</td>\n",
       "      <td>Male</td>\n",
       "      <td>18-29</td>\n",
       "      <td>$0 - $24,999</td>\n",
       "      <td>Bachelor degree</td>\n",
       "      <td>West South Central</td>\n",
       "    </tr>\n",
       "    <tr>\n",
       "      <th>3</th>\n",
       "      <td>3.292765e+09</td>\n",
       "      <td>Yes</td>\n",
       "      <td>No</td>\n",
       "      <td>Star Wars: Episode I  The Phantom Menace</td>\n",
       "      <td>Star Wars: Episode II  Attack of the Clones</td>\n",
       "      <td>Star Wars: Episode III  Revenge of the Sith</td>\n",
       "      <td>NaN</td>\n",
       "      <td>NaN</td>\n",
       "      <td>NaN</td>\n",
       "      <td>1</td>\n",
       "      <td>...</td>\n",
       "      <td>Unfamiliar (N/A)</td>\n",
       "      <td>I don't understand this question</td>\n",
       "      <td>No</td>\n",
       "      <td>NaN</td>\n",
       "      <td>No</td>\n",
       "      <td>Male</td>\n",
       "      <td>18-29</td>\n",
       "      <td>$0 - $24,999</td>\n",
       "      <td>High school degree</td>\n",
       "      <td>West North Central</td>\n",
       "    </tr>\n",
       "    <tr>\n",
       "      <th>4</th>\n",
       "      <td>3.292763e+09</td>\n",
       "      <td>Yes</td>\n",
       "      <td>Yes</td>\n",
       "      <td>Star Wars: Episode I  The Phantom Menace</td>\n",
       "      <td>Star Wars: Episode II  Attack of the Clones</td>\n",
       "      <td>Star Wars: Episode III  Revenge of the Sith</td>\n",
       "      <td>Star Wars: Episode IV  A New Hope</td>\n",
       "      <td>Star Wars: Episode V The Empire Strikes Back</td>\n",
       "      <td>Star Wars: Episode VI Return of the Jedi</td>\n",
       "      <td>5</td>\n",
       "      <td>...</td>\n",
       "      <td>Very favorably</td>\n",
       "      <td>I don't understand this question</td>\n",
       "      <td>No</td>\n",
       "      <td>NaN</td>\n",
       "      <td>Yes</td>\n",
       "      <td>Male</td>\n",
       "      <td>18-29</td>\n",
       "      <td>$100,000 - $149,999</td>\n",
       "      <td>Some college or Associate degree</td>\n",
       "      <td>West North Central</td>\n",
       "    </tr>\n",
       "  </tbody>\n",
       "</table>\n",
       "<p>5 rows × 38 columns</p>\n",
       "</div>"
      ],
      "text/plain": [
       "   RespondentID Have you seen any of the 6 films in the Star Wars franchise?  \\\n",
       "0           NaN                                           Response             \n",
       "1  3.292880e+09                                                Yes             \n",
       "2  3.292880e+09                                                 No             \n",
       "3  3.292765e+09                                                Yes             \n",
       "4  3.292763e+09                                                Yes             \n",
       "\n",
       "  Do you consider yourself to be a fan of the Star Wars film franchise?  \\\n",
       "0                                           Response                      \n",
       "1                                                Yes                      \n",
       "2                                                NaN                      \n",
       "3                                                 No                      \n",
       "4                                                Yes                      \n",
       "\n",
       "  Which of the following Star Wars films have you seen? Please select all that apply.  \\\n",
       "0           Star Wars: Episode I  The Phantom Menace                                    \n",
       "1           Star Wars: Episode I  The Phantom Menace                                    \n",
       "2                                                NaN                                    \n",
       "3           Star Wars: Episode I  The Phantom Menace                                    \n",
       "4           Star Wars: Episode I  The Phantom Menace                                    \n",
       "\n",
       "                                    Unnamed: 4  \\\n",
       "0  Star Wars: Episode II  Attack of the Clones   \n",
       "1  Star Wars: Episode II  Attack of the Clones   \n",
       "2                                          NaN   \n",
       "3  Star Wars: Episode II  Attack of the Clones   \n",
       "4  Star Wars: Episode II  Attack of the Clones   \n",
       "\n",
       "                                    Unnamed: 5  \\\n",
       "0  Star Wars: Episode III  Revenge of the Sith   \n",
       "1  Star Wars: Episode III  Revenge of the Sith   \n",
       "2                                          NaN   \n",
       "3  Star Wars: Episode III  Revenge of the Sith   \n",
       "4  Star Wars: Episode III  Revenge of the Sith   \n",
       "\n",
       "                          Unnamed: 6  \\\n",
       "0  Star Wars: Episode IV  A New Hope   \n",
       "1  Star Wars: Episode IV  A New Hope   \n",
       "2                                NaN   \n",
       "3                                NaN   \n",
       "4  Star Wars: Episode IV  A New Hope   \n",
       "\n",
       "                                     Unnamed: 7  \\\n",
       "0  Star Wars: Episode V The Empire Strikes Back   \n",
       "1  Star Wars: Episode V The Empire Strikes Back   \n",
       "2                                           NaN   \n",
       "3                                           NaN   \n",
       "4  Star Wars: Episode V The Empire Strikes Back   \n",
       "\n",
       "                                 Unnamed: 8  \\\n",
       "0  Star Wars: Episode VI Return of the Jedi   \n",
       "1  Star Wars: Episode VI Return of the Jedi   \n",
       "2                                       NaN   \n",
       "3                                       NaN   \n",
       "4  Star Wars: Episode VI Return of the Jedi   \n",
       "\n",
       "  Please rank the Star Wars films in order of preference with 1 being your favorite film in the franchise and 6 being your least favorite film.  \\\n",
       "0           Star Wars: Episode I  The Phantom Menace                                                                                              \n",
       "1                                                  3                                                                                              \n",
       "2                                                NaN                                                                                              \n",
       "3                                                  1                                                                                              \n",
       "4                                                  5                                                                                              \n",
       "\n",
       "   ...       Unnamed: 28       Which character shot first?  \\\n",
       "0  ...              Yoda                          Response   \n",
       "1  ...    Very favorably  I don't understand this question   \n",
       "2  ...               NaN                               NaN   \n",
       "3  ...  Unfamiliar (N/A)  I don't understand this question   \n",
       "4  ...    Very favorably  I don't understand this question   \n",
       "\n",
       "  Are you familiar with the Expanded Universe?  \\\n",
       "0                                     Response   \n",
       "1                                          Yes   \n",
       "2                                          NaN   \n",
       "3                                           No   \n",
       "4                                           No   \n",
       "\n",
       "  Do you consider yourself to be a fan of the Expanded Universe?ÂÃ¦  \\\n",
       "0                                           Response                   \n",
       "1                                                 No                   \n",
       "2                                                NaN                   \n",
       "3                                                NaN                   \n",
       "4                                                NaN                   \n",
       "\n",
       "  Do you consider yourself to be a fan of the Star Trek franchise?    Gender  \\\n",
       "0                                           Response                Response   \n",
       "1                                                 No                    Male   \n",
       "2                                                Yes                    Male   \n",
       "3                                                 No                    Male   \n",
       "4                                                Yes                    Male   \n",
       "\n",
       "        Age     Household Income                         Education  \\\n",
       "0  Response             Response                          Response   \n",
       "1     18-29                  NaN                High school degree   \n",
       "2     18-29         $0 - $24,999                   Bachelor degree   \n",
       "3     18-29         $0 - $24,999                High school degree   \n",
       "4     18-29  $100,000 - $149,999  Some college or Associate degree   \n",
       "\n",
       "  Location (Census Region)  \n",
       "0                 Response  \n",
       "1           South Atlantic  \n",
       "2       West South Central  \n",
       "3       West North Central  \n",
       "4       West North Central  \n",
       "\n",
       "[5 rows x 38 columns]"
      ]
     },
     "execution_count": 1,
     "metadata": {},
     "output_type": "execute_result"
    }
   ],
   "source": [
    "# read in the data\n",
    "import pandas as pd\n",
    "\n",
    "star_wars = pd.read_csv(\"star_wars.csv\", encoding=\"ISO-8859-1\")\n",
    "# the data set has some characters that aren't in Python's default utf-8 encoding\n",
    "\n",
    "# initial exploration of the data\n",
    "print(star_wars.columns)\n",
    "star_wars.head()"
   ]
  },
  {
   "cell_type": "code",
   "execution_count": 2,
   "metadata": {},
   "outputs": [],
   "source": [
    "# 'RespondentID' has missing values, so we will remove all rows with missing 'RespondentID' values\n",
    "star_wars = star_wars[pd.notnull(star_wars['RespondentID'])]"
   ]
  },
  {
   "cell_type": "markdown",
   "metadata": {},
   "source": [
    "# **What's in the Data?**\n",
    "We can see immediately that there are many columns names that are ambiguous in their meaning at first glance (e.g. `'Unnamed: 4'`). There are also several cases where a respondent had to give input to several columns to answer a single question. `'RespondentID'` is a unique identifier for each respondent. If any row is missing a value from this column, the row will be deemed as invalid. Hence, we will remove all rows with missing values in the `'RespondentID'` column.\n",
    "\n",
    "Before we can attempt any type of meanful analysis, we will need to dedicate effort into cleaning much of this dataset."
   ]
  },
  {
   "cell_type": "markdown",
   "metadata": {},
   "source": [
    "---"
   ]
  },
  {
   "cell_type": "markdown",
   "metadata": {},
   "source": [
    "# **Cleaning and Mapping Yes/No Columns**"
   ]
  },
  {
   "cell_type": "code",
   "execution_count": 3,
   "metadata": {},
   "outputs": [
    {
     "data": {
      "text/html": [
       "<div>\n",
       "<style scoped>\n",
       "    .dataframe tbody tr th:only-of-type {\n",
       "        vertical-align: middle;\n",
       "    }\n",
       "\n",
       "    .dataframe tbody tr th {\n",
       "        vertical-align: top;\n",
       "    }\n",
       "\n",
       "    .dataframe thead th {\n",
       "        text-align: right;\n",
       "    }\n",
       "</style>\n",
       "<table border=\"1\" class=\"dataframe\">\n",
       "  <thead>\n",
       "    <tr style=\"text-align: right;\">\n",
       "      <th></th>\n",
       "      <th>Have you seen any of the 6 films in the Star Wars franchise?</th>\n",
       "      <th>Do you consider yourself to be a fan of the Star Wars film franchise?</th>\n",
       "    </tr>\n",
       "  </thead>\n",
       "  <tbody>\n",
       "    <tr>\n",
       "      <th>1</th>\n",
       "      <td>True</td>\n",
       "      <td>True</td>\n",
       "    </tr>\n",
       "    <tr>\n",
       "      <th>2</th>\n",
       "      <td>False</td>\n",
       "      <td>NaN</td>\n",
       "    </tr>\n",
       "    <tr>\n",
       "      <th>3</th>\n",
       "      <td>True</td>\n",
       "      <td>False</td>\n",
       "    </tr>\n",
       "    <tr>\n",
       "      <th>4</th>\n",
       "      <td>True</td>\n",
       "      <td>True</td>\n",
       "    </tr>\n",
       "    <tr>\n",
       "      <th>5</th>\n",
       "      <td>True</td>\n",
       "      <td>True</td>\n",
       "    </tr>\n",
       "  </tbody>\n",
       "</table>\n",
       "</div>"
      ],
      "text/plain": [
       "   Have you seen any of the 6 films in the Star Wars franchise?  \\\n",
       "1                                               True              \n",
       "2                                              False              \n",
       "3                                               True              \n",
       "4                                               True              \n",
       "5                                               True              \n",
       "\n",
       "  Do you consider yourself to be a fan of the Star Wars film franchise?  \n",
       "1                                               True                     \n",
       "2                                                NaN                     \n",
       "3                                              False                     \n",
       "4                                               True                     \n",
       "5                                               True                     "
      ]
     },
     "execution_count": 3,
     "metadata": {},
     "output_type": "execute_result"
    }
   ],
   "source": [
    "# easier to work with True/False Boolean values rather than string \"Yes\"/\"No\"\n",
    "yes_no = {\"Yes\": True, \"No\": False}\n",
    "\n",
    "# column names are long, so they'll be stored into a variable\n",
    "col_seen = \"Have you seen any of the 6 films in the Star Wars franchise?\"\n",
    "col_fan = \"Do you consider yourself to be a fan of the Star Wars film franchise?\"\n",
    "\n",
    "star_wars[col_seen] = star_wars[col_seen].map(yes_no)\n",
    "star_wars[col_fan] = star_wars[col_fan].map(yes_no)\n",
    "\n",
    "star_wars[[col_seen, col_fan]].head()"
   ]
  },
  {
   "cell_type": "markdown",
   "metadata": {},
   "source": [
    "---"
   ]
  },
  {
   "cell_type": "markdown",
   "metadata": {},
   "source": [
    "# **Cleaning and Mapping Checkbox Columns**\n",
    "The following six columns are a series of checkbox columns a respondent must check off the question: `\"Which of the following Star Wars films have you seen? Please select all that apply.\"`. In each column, there is only either the name of the movie that they saw, or no response at all, meaning that they haven't seen the movie.\n",
    "\n",
    "To make these columns easier to work with, we will all of these values into True/False Boolean values and will rename the column names into something more intuitive."
   ]
  },
  {
   "cell_type": "code",
   "execution_count": 4,
   "metadata": {},
   "outputs": [
    {
     "data": {
      "text/html": [
       "<div>\n",
       "<style scoped>\n",
       "    .dataframe tbody tr th:only-of-type {\n",
       "        vertical-align: middle;\n",
       "    }\n",
       "\n",
       "    .dataframe tbody tr th {\n",
       "        vertical-align: top;\n",
       "    }\n",
       "\n",
       "    .dataframe thead th {\n",
       "        text-align: right;\n",
       "    }\n",
       "</style>\n",
       "<table border=\"1\" class=\"dataframe\">\n",
       "  <thead>\n",
       "    <tr style=\"text-align: right;\">\n",
       "      <th></th>\n",
       "      <th>Which of the following Star Wars films have you seen? Please select all that apply.</th>\n",
       "      <th>Unnamed: 4</th>\n",
       "      <th>Unnamed: 5</th>\n",
       "      <th>Unnamed: 6</th>\n",
       "      <th>Unnamed: 7</th>\n",
       "      <th>Unnamed: 8</th>\n",
       "    </tr>\n",
       "  </thead>\n",
       "  <tbody>\n",
       "    <tr>\n",
       "      <th>1</th>\n",
       "      <td>Star Wars: Episode I  The Phantom Menace</td>\n",
       "      <td>Star Wars: Episode II  Attack of the Clones</td>\n",
       "      <td>Star Wars: Episode III  Revenge of the Sith</td>\n",
       "      <td>Star Wars: Episode IV  A New Hope</td>\n",
       "      <td>Star Wars: Episode V The Empire Strikes Back</td>\n",
       "      <td>Star Wars: Episode VI Return of the Jedi</td>\n",
       "    </tr>\n",
       "    <tr>\n",
       "      <th>2</th>\n",
       "      <td>NaN</td>\n",
       "      <td>NaN</td>\n",
       "      <td>NaN</td>\n",
       "      <td>NaN</td>\n",
       "      <td>NaN</td>\n",
       "      <td>NaN</td>\n",
       "    </tr>\n",
       "    <tr>\n",
       "      <th>3</th>\n",
       "      <td>Star Wars: Episode I  The Phantom Menace</td>\n",
       "      <td>Star Wars: Episode II  Attack of the Clones</td>\n",
       "      <td>Star Wars: Episode III  Revenge of the Sith</td>\n",
       "      <td>NaN</td>\n",
       "      <td>NaN</td>\n",
       "      <td>NaN</td>\n",
       "    </tr>\n",
       "    <tr>\n",
       "      <th>4</th>\n",
       "      <td>Star Wars: Episode I  The Phantom Menace</td>\n",
       "      <td>Star Wars: Episode II  Attack of the Clones</td>\n",
       "      <td>Star Wars: Episode III  Revenge of the Sith</td>\n",
       "      <td>Star Wars: Episode IV  A New Hope</td>\n",
       "      <td>Star Wars: Episode V The Empire Strikes Back</td>\n",
       "      <td>Star Wars: Episode VI Return of the Jedi</td>\n",
       "    </tr>\n",
       "    <tr>\n",
       "      <th>5</th>\n",
       "      <td>Star Wars: Episode I  The Phantom Menace</td>\n",
       "      <td>Star Wars: Episode II  Attack of the Clones</td>\n",
       "      <td>Star Wars: Episode III  Revenge of the Sith</td>\n",
       "      <td>Star Wars: Episode IV  A New Hope</td>\n",
       "      <td>Star Wars: Episode V The Empire Strikes Back</td>\n",
       "      <td>Star Wars: Episode VI Return of the Jedi</td>\n",
       "    </tr>\n",
       "  </tbody>\n",
       "</table>\n",
       "</div>"
      ],
      "text/plain": [
       "  Which of the following Star Wars films have you seen? Please select all that apply.  \\\n",
       "1           Star Wars: Episode I  The Phantom Menace                                    \n",
       "2                                                NaN                                    \n",
       "3           Star Wars: Episode I  The Phantom Menace                                    \n",
       "4           Star Wars: Episode I  The Phantom Menace                                    \n",
       "5           Star Wars: Episode I  The Phantom Menace                                    \n",
       "\n",
       "                                    Unnamed: 4  \\\n",
       "1  Star Wars: Episode II  Attack of the Clones   \n",
       "2                                          NaN   \n",
       "3  Star Wars: Episode II  Attack of the Clones   \n",
       "4  Star Wars: Episode II  Attack of the Clones   \n",
       "5  Star Wars: Episode II  Attack of the Clones   \n",
       "\n",
       "                                    Unnamed: 5  \\\n",
       "1  Star Wars: Episode III  Revenge of the Sith   \n",
       "2                                          NaN   \n",
       "3  Star Wars: Episode III  Revenge of the Sith   \n",
       "4  Star Wars: Episode III  Revenge of the Sith   \n",
       "5  Star Wars: Episode III  Revenge of the Sith   \n",
       "\n",
       "                          Unnamed: 6  \\\n",
       "1  Star Wars: Episode IV  A New Hope   \n",
       "2                                NaN   \n",
       "3                                NaN   \n",
       "4  Star Wars: Episode IV  A New Hope   \n",
       "5  Star Wars: Episode IV  A New Hope   \n",
       "\n",
       "                                     Unnamed: 7  \\\n",
       "1  Star Wars: Episode V The Empire Strikes Back   \n",
       "2                                           NaN   \n",
       "3                                           NaN   \n",
       "4  Star Wars: Episode V The Empire Strikes Back   \n",
       "5  Star Wars: Episode V The Empire Strikes Back   \n",
       "\n",
       "                                 Unnamed: 8  \n",
       "1  Star Wars: Episode VI Return of the Jedi  \n",
       "2                                       NaN  \n",
       "3                                       NaN  \n",
       "4  Star Wars: Episode VI Return of the Jedi  \n",
       "5  Star Wars: Episode VI Return of the Jedi  "
      ]
     },
     "execution_count": 4,
     "metadata": {},
     "output_type": "execute_result"
    }
   ],
   "source": [
    "star_wars.iloc[:, 3:9].head()"
   ]
  },
  {
   "cell_type": "code",
   "execution_count": 5,
   "metadata": {},
   "outputs": [],
   "source": [
    "# rename column corresponding to \"Which of the following Star Wars films have you seen?\"\n",
    "star_wars = star_wars.rename(columns = {\n",
    "    star_wars.columns[3]: \"seen_1\",\n",
    "    star_wars.columns[4]: \"seen_2\",\n",
    "    star_wars.columns[5]: \"seen_3\",\n",
    "    star_wars.columns[6]: \"seen_4\",\n",
    "    star_wars.columns[7]: \"seen_5\",\n",
    "    star_wars.columns[8]: \"seen_6\"\n",
    "})"
   ]
  },
  {
   "cell_type": "code",
   "execution_count": 6,
   "metadata": {},
   "outputs": [
    {
     "data": {
      "text/html": [
       "<div>\n",
       "<style scoped>\n",
       "    .dataframe tbody tr th:only-of-type {\n",
       "        vertical-align: middle;\n",
       "    }\n",
       "\n",
       "    .dataframe tbody tr th {\n",
       "        vertical-align: top;\n",
       "    }\n",
       "\n",
       "    .dataframe thead th {\n",
       "        text-align: right;\n",
       "    }\n",
       "</style>\n",
       "<table border=\"1\" class=\"dataframe\">\n",
       "  <thead>\n",
       "    <tr style=\"text-align: right;\">\n",
       "      <th></th>\n",
       "      <th>seen_1</th>\n",
       "      <th>seen_2</th>\n",
       "      <th>seen_3</th>\n",
       "      <th>seen_4</th>\n",
       "      <th>seen_5</th>\n",
       "      <th>seen_6</th>\n",
       "    </tr>\n",
       "  </thead>\n",
       "  <tbody>\n",
       "    <tr>\n",
       "      <th>1</th>\n",
       "      <td>True</td>\n",
       "      <td>True</td>\n",
       "      <td>True</td>\n",
       "      <td>True</td>\n",
       "      <td>True</td>\n",
       "      <td>True</td>\n",
       "    </tr>\n",
       "    <tr>\n",
       "      <th>2</th>\n",
       "      <td>False</td>\n",
       "      <td>False</td>\n",
       "      <td>False</td>\n",
       "      <td>False</td>\n",
       "      <td>False</td>\n",
       "      <td>False</td>\n",
       "    </tr>\n",
       "    <tr>\n",
       "      <th>3</th>\n",
       "      <td>True</td>\n",
       "      <td>True</td>\n",
       "      <td>True</td>\n",
       "      <td>False</td>\n",
       "      <td>False</td>\n",
       "      <td>False</td>\n",
       "    </tr>\n",
       "    <tr>\n",
       "      <th>4</th>\n",
       "      <td>True</td>\n",
       "      <td>True</td>\n",
       "      <td>True</td>\n",
       "      <td>True</td>\n",
       "      <td>True</td>\n",
       "      <td>True</td>\n",
       "    </tr>\n",
       "    <tr>\n",
       "      <th>5</th>\n",
       "      <td>True</td>\n",
       "      <td>True</td>\n",
       "      <td>True</td>\n",
       "      <td>True</td>\n",
       "      <td>True</td>\n",
       "      <td>True</td>\n",
       "    </tr>\n",
       "    <tr>\n",
       "      <th>6</th>\n",
       "      <td>True</td>\n",
       "      <td>True</td>\n",
       "      <td>True</td>\n",
       "      <td>True</td>\n",
       "      <td>True</td>\n",
       "      <td>True</td>\n",
       "    </tr>\n",
       "    <tr>\n",
       "      <th>7</th>\n",
       "      <td>True</td>\n",
       "      <td>True</td>\n",
       "      <td>True</td>\n",
       "      <td>True</td>\n",
       "      <td>True</td>\n",
       "      <td>True</td>\n",
       "    </tr>\n",
       "    <tr>\n",
       "      <th>8</th>\n",
       "      <td>True</td>\n",
       "      <td>True</td>\n",
       "      <td>True</td>\n",
       "      <td>True</td>\n",
       "      <td>True</td>\n",
       "      <td>True</td>\n",
       "    </tr>\n",
       "    <tr>\n",
       "      <th>9</th>\n",
       "      <td>True</td>\n",
       "      <td>True</td>\n",
       "      <td>True</td>\n",
       "      <td>True</td>\n",
       "      <td>True</td>\n",
       "      <td>True</td>\n",
       "    </tr>\n",
       "    <tr>\n",
       "      <th>10</th>\n",
       "      <td>False</td>\n",
       "      <td>True</td>\n",
       "      <td>False</td>\n",
       "      <td>False</td>\n",
       "      <td>False</td>\n",
       "      <td>False</td>\n",
       "    </tr>\n",
       "  </tbody>\n",
       "</table>\n",
       "</div>"
      ],
      "text/plain": [
       "    seen_1  seen_2  seen_3  seen_4  seen_5  seen_6\n",
       "1     True    True    True    True    True    True\n",
       "2    False   False   False   False   False   False\n",
       "3     True    True    True   False   False   False\n",
       "4     True    True    True    True    True    True\n",
       "5     True    True    True    True    True    True\n",
       "6     True    True    True    True    True    True\n",
       "7     True    True    True    True    True    True\n",
       "8     True    True    True    True    True    True\n",
       "9     True    True    True    True    True    True\n",
       "10   False    True   False   False   False   False"
      ]
     },
     "execution_count": 6,
     "metadata": {},
     "output_type": "execute_result"
    }
   ],
   "source": [
    "import numpy as np     # import numpy because we are now dealing with NaN values\n",
    "\n",
    "# Be careful as there is a double space between the episode number and title for the first four movies\n",
    "map1 = {\"Star Wars: Episode I  The Phantom Menace\": True, np.NaN: False,\n",
    "      \"Star Wars: Episode II  Attack of the Clones\": True, np.NaN: False,\n",
    "      \"Star Wars: Episode III  Revenge of the Sith\": True, np.NaN: False,\n",
    "      \"Star Wars: Episode IV  A New Hope\": True, np.NaN: False,\n",
    "      \"Star Wars: Episode V The Empire Strikes Back\": True, np.NaN: False,\n",
    "      \"Star Wars: Episode VI Return of the Jedi\": True, np.NaN: False}\n",
    "\n",
    "# apply the mapping to the intended columns\n",
    "for col in star_wars.loc[:, \"seen_1\":\"seen_6\"].columns:\n",
    "    star_wars.loc[:, col] = star_wars.loc[:, col].map(map1)\n",
    "\n",
    "star_wars.loc[:, \"seen_1\":\"seen_6\"].head(10)"
   ]
  },
  {
   "cell_type": "markdown",
   "metadata": {},
   "source": [
    "---"
   ]
  },
  {
   "cell_type": "markdown",
   "metadata": {},
   "source": [
    "# **Cleaning the Ranking Columns**\n",
    "The next six columns are the same case as the last three: a series of checkbox columns in response to the question `\"Please rank the Star Wars films in order of preference with 1 being your favorite film in the franchise and 6 being your least favorite film.\"`\n",
    "\n",
    "These columns will also be renamed into something that is much easier to work with."
   ]
  },
  {
   "cell_type": "code",
   "execution_count": 7,
   "metadata": {},
   "outputs": [
    {
     "data": {
      "text/html": [
       "<div>\n",
       "<style scoped>\n",
       "    .dataframe tbody tr th:only-of-type {\n",
       "        vertical-align: middle;\n",
       "    }\n",
       "\n",
       "    .dataframe tbody tr th {\n",
       "        vertical-align: top;\n",
       "    }\n",
       "\n",
       "    .dataframe thead th {\n",
       "        text-align: right;\n",
       "    }\n",
       "</style>\n",
       "<table border=\"1\" class=\"dataframe\">\n",
       "  <thead>\n",
       "    <tr style=\"text-align: right;\">\n",
       "      <th></th>\n",
       "      <th>ranking_1</th>\n",
       "      <th>ranking_2</th>\n",
       "      <th>ranking_3</th>\n",
       "      <th>ranking_4</th>\n",
       "      <th>ranking_5</th>\n",
       "      <th>ranking_6</th>\n",
       "    </tr>\n",
       "  </thead>\n",
       "  <tbody>\n",
       "    <tr>\n",
       "      <th>1</th>\n",
       "      <td>3.0</td>\n",
       "      <td>2.0</td>\n",
       "      <td>1.0</td>\n",
       "      <td>4.0</td>\n",
       "      <td>5.0</td>\n",
       "      <td>6.0</td>\n",
       "    </tr>\n",
       "    <tr>\n",
       "      <th>2</th>\n",
       "      <td>NaN</td>\n",
       "      <td>NaN</td>\n",
       "      <td>NaN</td>\n",
       "      <td>NaN</td>\n",
       "      <td>NaN</td>\n",
       "      <td>NaN</td>\n",
       "    </tr>\n",
       "    <tr>\n",
       "      <th>3</th>\n",
       "      <td>1.0</td>\n",
       "      <td>2.0</td>\n",
       "      <td>3.0</td>\n",
       "      <td>4.0</td>\n",
       "      <td>5.0</td>\n",
       "      <td>6.0</td>\n",
       "    </tr>\n",
       "    <tr>\n",
       "      <th>4</th>\n",
       "      <td>5.0</td>\n",
       "      <td>6.0</td>\n",
       "      <td>1.0</td>\n",
       "      <td>2.0</td>\n",
       "      <td>4.0</td>\n",
       "      <td>3.0</td>\n",
       "    </tr>\n",
       "    <tr>\n",
       "      <th>5</th>\n",
       "      <td>5.0</td>\n",
       "      <td>4.0</td>\n",
       "      <td>6.0</td>\n",
       "      <td>2.0</td>\n",
       "      <td>1.0</td>\n",
       "      <td>3.0</td>\n",
       "    </tr>\n",
       "  </tbody>\n",
       "</table>\n",
       "</div>"
      ],
      "text/plain": [
       "   ranking_1  ranking_2  ranking_3  ranking_4  ranking_5  ranking_6\n",
       "1        3.0        2.0        1.0        4.0        5.0        6.0\n",
       "2        NaN        NaN        NaN        NaN        NaN        NaN\n",
       "3        1.0        2.0        3.0        4.0        5.0        6.0\n",
       "4        5.0        6.0        1.0        2.0        4.0        3.0\n",
       "5        5.0        4.0        6.0        2.0        1.0        3.0"
      ]
     },
     "execution_count": 7,
     "metadata": {},
     "output_type": "execute_result"
    }
   ],
   "source": [
    "# all of the values are numbers that are in string format\n",
    "# convert all the values into the float dtype for easier computation\n",
    "star_wars.iloc[:, 9:15] = star_wars.iloc[:, 9:15].astype(float)\n",
    "\n",
    "star_wars = star_wars.rename(columns = {\n",
    "                star_wars.columns[9]: \"ranking_1\",\n",
    "                star_wars.columns[10]: \"ranking_2\",\n",
    "                star_wars.columns[11]: \"ranking_3\",\n",
    "                star_wars.columns[12]: \"ranking_4\",\n",
    "                star_wars.columns[13]: \"ranking_5\",\n",
    "                star_wars.columns[14]: \"ranking_6\"\n",
    "            })\n",
    "\n",
    "star_wars.iloc[:, 9:15].head()"
   ]
  },
  {
   "cell_type": "markdown",
   "metadata": {},
   "source": [
    "---"
   ]
  },
  {
   "cell_type": "markdown",
   "metadata": {},
   "source": [
    "# **What is the Highest-Ranked and Most Viewed Movie?**\n",
    "To compare both the ranking scores and number of views for each movie, we will take the averages of all the columns and plot them onto bar graphs with matplotlib.\n",
    "\n",
    "It seems like the more popular the movie is, the higher they ranked it (lower numberic score means higher rank), and as movies have less views, the lower they are ranked. In this case, most people have seen the Original Trilogy (Episodes 4-6) and also favored the trilogy much higher than the Prequels (Episodes 1-3)."
   ]
  },
  {
   "cell_type": "code",
   "execution_count": 8,
   "metadata": {},
   "outputs": [],
   "source": [
    "import matplotlib.pyplot as plt\n",
    "import matplotlib.patches as mpatches\n",
    "%matplotlib inline\n",
    "# this is to make sure that our plots are actually displayed when we run our code"
   ]
  },
  {
   "cell_type": "code",
   "execution_count": 9,
   "metadata": {},
   "outputs": [],
   "source": [
    "# create a function to graph the rankings\n",
    "def ranking(df, title, y_axis):\n",
    "    df.iloc[:, 9:15].mean().plot.bar(color=['tab:red', 'tab:red', 'tab:red', 'tab:blue', 'tab:blue', 'tab:blue'])\n",
    "    plt.title(title, fontsize=16, fontweight='bold', pad=10)\n",
    "\n",
    "    red_patch = mpatches.Patch(color='tab:red', label='Prequel Trilogy')\n",
    "    blue_patch = mpatches.Patch(color='tab:blue', label='Original Trilogy')\n",
    "    plt.legend(handles=[red_patch,blue_patch], loc='upper left', bbox_to_anchor=(1, 1))\n",
    "\n",
    "    plt.xticks(ticks=[0,1,2,3,4,5], labels=['Episode 1','Episode 2','Episode 3','Episode 4','Episode 5','Episode 6'], rotation='horizontal')\n",
    "    plt.xlabel('Movie', fontsize=14, labelpad=20)\n",
    "    plt.ylabel(y_axis, fontsize=14, labelpad=20)\n",
    "    plt.show()\n",
    "    print('\\n')\n",
    "\n",
    "# create a function to graph the view counts\n",
    "def views(df, title, y_axis):\n",
    "    df.loc[:, \"seen_1\":\"seen_6\"].sum().plot.bar(color=['tab:red', 'tab:red', 'tab:red', 'tab:blue', 'tab:blue', 'tab:blue'])\n",
    "    plt.title(title, fontsize=16, fontweight='bold', pad=10)\n",
    "\n",
    "    red_patch = mpatches.Patch(color='tab:red', label='Prequel Trilogy')\n",
    "    blue_patch = mpatches.Patch(color='tab:blue', label='Original Trilogy')\n",
    "    plt.legend(handles=[red_patch,blue_patch], loc='upper left', bbox_to_anchor=(1, 1))\n",
    "\n",
    "    plt.xticks(ticks=[0,1,2,3,4,5], labels=['Episode 1','Episode 2','Episode 3','Episode 4','Episode 5','Episode 6'], rotation='horizontal')\n",
    "    plt.xlabel('Movie', fontsize=14, labelpad=20)\n",
    "    plt.ylabel(y_axis, fontsize=14, labelpad=20)\n",
    "    plt.show()"
   ]
  },
  {
   "cell_type": "code",
   "execution_count": 10,
   "metadata": {},
   "outputs": [
    {
     "data": {
      "image/png": "[encoded data removed]",
      "text/plain": [
       "<Figure size 432x288 with 1 Axes>"
      ]
     },
     "metadata": {
      "needs_background": "light"
     },
     "output_type": "display_data"
    },
    {
     "name": "stdout",
     "output_type": "stream",
     "text": [
      "\n",
      "\n"
     ]
    },
    {
     "data": {
      "image/png": "[encoded data removed]",
      "text/plain": [
       "<Figure size 432x288 with 1 Axes>"
      ]
     },
     "metadata": {
      "needs_background": "light"
     },
     "output_type": "display_data"
    }
   ],
   "source": [
    "# remember that the lower a ranking is, the more favorable that movie\n",
    "\n",
    "ranking(df=star_wars, title='Rankings', y_axis='Average Ranking')\n",
    "\n",
    "views(df=star_wars, title='Views', y_axis='Average View Count')"
   ]
  },
  {
   "cell_type": "markdown",
   "metadata": {},
   "source": [
    "---"
   ]
  },
  {
   "cell_type": "markdown",
   "metadata": {},
   "source": [
    "# **Is There Any Difference Between Fans and Non-fans?**\n",
    "One of the questions addressed was \"Is there a bias between people who consider themselves fans of the movies against those who don't?\"\n",
    "\n",
    "People who consider themselves fans of a franchise tend to be more knowledgeable or more appreciative of the material of that franchise. While others who consider themselves just as casual viewers don't think much of the material and only take the movies at face value, in contrast, fans already have some sort of personal connection to them.\n",
    "\n",
    " - Do fans have a higher bias towards the rating of \"The Empire Strikes Back\"? \n",
    " - Or is it common across the majority of the respondents to say that \"The Empire Strikes Back\" is the best of the saga?"
   ]
  },
  {
   "cell_type": "code",
   "execution_count": 11,
   "metadata": {},
   "outputs": [
    {
     "data": {
      "image/png": "[encoded data removed]",
      "text/plain": [
       "<Figure size 432x288 with 1 Axes>"
      ]
     },
     "metadata": {
      "needs_background": "light"
     },
     "output_type": "display_data"
    },
    {
     "name": "stdout",
     "output_type": "stream",
     "text": [
      "\n",
      "\n"
     ]
    },
    {
     "data": {
      "image/png": "[encoded data removed]",
      "text/plain": [
       "<Figure size 432x288 with 1 Axes>"
      ]
     },
     "metadata": {
      "needs_background": "light"
     },
     "output_type": "display_data"
    }
   ],
   "source": [
    "# create two new dataframes based on whether respondents consider themselves as fans or not\n",
    "fan = star_wars[star_wars['Do you consider yourself to be a fan of the Star Wars film franchise?'] == True]\n",
    "\n",
    "# highest ranked movie amongst fans\n",
    "ranking(df=fan, title='Fan Rankings', y_axis='Average Fan Ranking')\n",
    "\n",
    "views(df=fan, title='Fan Views', y_axis='Average Fan View Count')"
   ]
  },
  {
   "cell_type": "code",
   "execution_count": 12,
   "metadata": {},
   "outputs": [
    {
     "data": {
      "image/png": "[encoded data removed]",
      "text/plain": [
       "<Figure size 432x288 with 1 Axes>"
      ]
     },
     "metadata": {
      "needs_background": "light"
     },
     "output_type": "display_data"
    },
    {
     "name": "stdout",
     "output_type": "stream",
     "text": [
      "\n",
      "\n"
     ]
    },
    {
     "data": {
      "image/png": "[encoded data removed]",
      "text/plain": [
       "<Figure size 432x288 with 1 Axes>"
      ]
     },
     "metadata": {
      "needs_background": "light"
     },
     "output_type": "display_data"
    }
   ],
   "source": [
    "non_fan = star_wars[star_wars['Do you consider yourself to be a fan of the Star Wars film franchise?'] == False]\n",
    "\n",
    "# highest ranked movie amongst non-fans\n",
    "ranking(df=non_fan, title='Non-fan Rankings', y_axis='Average Non-fan Ranking')\n",
    "\n",
    "# most viewed movie amongst non-fans\n",
    "views(df=non_fan, title='Non-fan Views', y_axis='Average Non-fan View Count')"
   ]
  },
  {
   "cell_type": "markdown",
   "metadata": {},
   "source": [
    "# **Findings: Fans vs. Non-Fans**\n",
    "\n",
    "**Fans:**\n",
    " - most fans have seen all of the movies\n",
    " - fans are overwhelmingly in favor of rating the Original Trilogy higher than the Prequels\n",
    " - ratings are consistently positive across the Original Trilogy and consistently negative across the Prequels\n",
    " \n",
    "**Non-Fans:**\n",
    " - most non-fans have only seen episode 5 and 6\n",
    " - episode 1 is the most popular and highest ranked of the Prequels amongst non-fans\n",
    " - ratings vary across all movies (interesting how episode 5 is rated almost the same as episode 1)\n",
    " \n",
    "**Commonalities:**\n",
    " - both groups of fans have seen \"The Empire Strikes Back\" the most \n",
    " - both groups of fans have rated \"The Empire Strikes Back\" the highest \n",
    " - both groups of fans have seen \"Revenge of the Sith\" (episode 3) the least\n",
    " - both groups of fans have rated \"Revenge of the Sith\" (episode 3) the lowest"
   ]
  },
  {
   "cell_type": "markdown",
   "metadata": {},
   "source": [
    "---------------------------------------------------------------------------------"
   ]
  },
  {
   "cell_type": "markdown",
   "metadata": {},
   "source": [
    "# **Finding the Most and Least Popular \"Star Wars\" Characters**\n",
    "Another indicator of whether respondents consider \"The Empire Strikes Back\" as the best is to determine how they favor characters who appeared in the Original Trilogy compared to characters who appears in the Prequels. If the character appeared in both the Prequels and Originals, we will characterize them as characters from both trilogies and see has any influence on the respondents' opinions.\n",
    "\n",
    "|Original Trilogy Characters| |Both Trilogies| |Prequel Trilogy Characters|\n",
    "| :----------- | | :----------- | | :----------- |\n",
    "|Han Solo| |Obi Wan Kenobi| |Anakin Skywalker|\n",
    "|Luke Skywalker| |Yoda| |Padme Amidala|\n",
    "|Princess Leia Organa| |Emperor Palpatine| |Jar Jar Binks|\n",
    "|Lando Calrissian| |Darth Vader|\n",
    "|Boba Fett| |C-3P0|\n",
    "| ||R2 D2|"
   ]
  },
  {
   "cell_type": "code",
   "execution_count": 13,
   "metadata": {},
   "outputs": [
    {
     "data": {
      "text/html": [
       "<div>\n",
       "<style scoped>\n",
       "    .dataframe tbody tr th:only-of-type {\n",
       "        vertical-align: middle;\n",
       "    }\n",
       "\n",
       "    .dataframe tbody tr th {\n",
       "        vertical-align: top;\n",
       "    }\n",
       "\n",
       "    .dataframe thead th {\n",
       "        text-align: right;\n",
       "    }\n",
       "</style>\n",
       "<table border=\"1\" class=\"dataframe\">\n",
       "  <thead>\n",
       "    <tr style=\"text-align: right;\">\n",
       "      <th></th>\n",
       "      <th>Please state whether you view the following characters favorably, unfavorably, or are unfamiliar with him/her.</th>\n",
       "      <th>Unnamed: 16</th>\n",
       "      <th>Unnamed: 17</th>\n",
       "      <th>Unnamed: 18</th>\n",
       "      <th>Unnamed: 19</th>\n",
       "      <th>Unnamed: 20</th>\n",
       "      <th>Unnamed: 21</th>\n",
       "      <th>Unnamed: 22</th>\n",
       "      <th>Unnamed: 23</th>\n",
       "      <th>Unnamed: 24</th>\n",
       "      <th>Unnamed: 25</th>\n",
       "      <th>Unnamed: 26</th>\n",
       "      <th>Unnamed: 27</th>\n",
       "      <th>Unnamed: 28</th>\n",
       "    </tr>\n",
       "  </thead>\n",
       "  <tbody>\n",
       "    <tr>\n",
       "      <th>1</th>\n",
       "      <td>Very favorably</td>\n",
       "      <td>Very favorably</td>\n",
       "      <td>Very favorably</td>\n",
       "      <td>Very favorably</td>\n",
       "      <td>Very favorably</td>\n",
       "      <td>Very favorably</td>\n",
       "      <td>Very favorably</td>\n",
       "      <td>Unfamiliar (N/A)</td>\n",
       "      <td>Unfamiliar (N/A)</td>\n",
       "      <td>Very favorably</td>\n",
       "      <td>Very favorably</td>\n",
       "      <td>Very favorably</td>\n",
       "      <td>Very favorably</td>\n",
       "      <td>Very favorably</td>\n",
       "    </tr>\n",
       "  </tbody>\n",
       "</table>\n",
       "</div>"
      ],
      "text/plain": [
       "  Please state whether you view the following characters favorably, unfavorably, or are unfamiliar with him/her.  \\\n",
       "1                                     Very favorably                                                               \n",
       "\n",
       "      Unnamed: 16     Unnamed: 17     Unnamed: 18     Unnamed: 19  \\\n",
       "1  Very favorably  Very favorably  Very favorably  Very favorably   \n",
       "\n",
       "      Unnamed: 20     Unnamed: 21       Unnamed: 22       Unnamed: 23  \\\n",
       "1  Very favorably  Very favorably  Unfamiliar (N/A)  Unfamiliar (N/A)   \n",
       "\n",
       "      Unnamed: 24     Unnamed: 25     Unnamed: 26     Unnamed: 27  \\\n",
       "1  Very favorably  Very favorably  Very favorably  Very favorably   \n",
       "\n",
       "      Unnamed: 28  \n",
       "1  Very favorably  "
      ]
     },
     "execution_count": 13,
     "metadata": {},
     "output_type": "execute_result"
    }
   ],
   "source": [
    "# just like the ranking columns, the following columns are checkbox columns to answer a single question about the characters\n",
    "star_wars.iloc[:, 15:29].head(1)"
   ]
  },
  {
   "cell_type": "code",
   "execution_count": 14,
   "metadata": {},
   "outputs": [
    {
     "data": {
      "text/html": [
       "<div>\n",
       "<style scoped>\n",
       "    .dataframe tbody tr th:only-of-type {\n",
       "        vertical-align: middle;\n",
       "    }\n",
       "\n",
       "    .dataframe tbody tr th {\n",
       "        vertical-align: top;\n",
       "    }\n",
       "\n",
       "    .dataframe thead th {\n",
       "        text-align: right;\n",
       "    }\n",
       "</style>\n",
       "<table border=\"1\" class=\"dataframe\">\n",
       "  <thead>\n",
       "    <tr style=\"text-align: right;\">\n",
       "      <th></th>\n",
       "      <th>Han Solo</th>\n",
       "      <th>Luke Skywalker</th>\n",
       "      <th>Princess Leia Organa</th>\n",
       "      <th>Anakin Skywalker</th>\n",
       "      <th>Obi Wan Kenobi</th>\n",
       "      <th>Emperor Palpatine</th>\n",
       "      <th>Darth Vader</th>\n",
       "      <th>Lando Calrissian</th>\n",
       "      <th>Boba Fett</th>\n",
       "      <th>C-3P0</th>\n",
       "      <th>R2 D2</th>\n",
       "      <th>Jar Jar Binks</th>\n",
       "      <th>Padme Amidala</th>\n",
       "      <th>Yoda</th>\n",
       "    </tr>\n",
       "  </thead>\n",
       "  <tbody>\n",
       "    <tr>\n",
       "      <th>1</th>\n",
       "      <td>Very favorably</td>\n",
       "      <td>Very favorably</td>\n",
       "      <td>Very favorably</td>\n",
       "      <td>Very favorably</td>\n",
       "      <td>Very favorably</td>\n",
       "      <td>Very favorably</td>\n",
       "      <td>Very favorably</td>\n",
       "      <td>Unfamiliar (N/A)</td>\n",
       "      <td>Unfamiliar (N/A)</td>\n",
       "      <td>Very favorably</td>\n",
       "      <td>Very favorably</td>\n",
       "      <td>Very favorably</td>\n",
       "      <td>Very favorably</td>\n",
       "      <td>Very favorably</td>\n",
       "    </tr>\n",
       "  </tbody>\n",
       "</table>\n",
       "</div>"
      ],
      "text/plain": [
       "         Han Solo  Luke Skywalker Princess Leia Organa Anakin Skywalker  \\\n",
       "1  Very favorably  Very favorably       Very favorably   Very favorably   \n",
       "\n",
       "   Obi Wan Kenobi Emperor Palpatine     Darth Vader  Lando Calrissian  \\\n",
       "1  Very favorably    Very favorably  Very favorably  Unfamiliar (N/A)   \n",
       "\n",
       "          Boba Fett           C-3P0           R2 D2   Jar Jar Binks  \\\n",
       "1  Unfamiliar (N/A)  Very favorably  Very favorably  Very favorably   \n",
       "\n",
       "    Padme Amidala            Yoda  \n",
       "1  Very favorably  Very favorably  "
      ]
     },
     "execution_count": 14,
     "metadata": {},
     "output_type": "execute_result"
    }
   ],
   "source": [
    "# rename the columns based on the corresponding characters\n",
    "star_wars = star_wars.rename(columns = {\n",
    "                star_wars.columns[15]: \"Han Solo\",\n",
    "                star_wars.columns[16]: \"Luke Skywalker\",\n",
    "                star_wars.columns[17]: \"Princess Leia Organa\",\n",
    "                star_wars.columns[18]: \"Anakin Skywalker\",\n",
    "                star_wars.columns[19]: \"Obi Wan Kenobi\",\n",
    "                star_wars.columns[20]: \"Emperor Palpatine\",\n",
    "                star_wars.columns[21]: \"Darth Vader\",\n",
    "                star_wars.columns[22]: \"Lando Calrissian\",\n",
    "                star_wars.columns[23]: \"Boba Fett\",\n",
    "                star_wars.columns[24]: \"C-3P0\",\n",
    "                star_wars.columns[25]: \"R2 D2\",\n",
    "                star_wars.columns[26]: \"Jar Jar Binks\",\n",
    "                star_wars.columns[27]: \"Padme Amidala\",\n",
    "                star_wars.columns[28]: \"Yoda\"\n",
    "            })\n",
    "\n",
    "star_wars.iloc[:, 15:29].head(1)"
   ]
  },
  {
   "cell_type": "markdown",
   "metadata": {},
   "source": [
    "# **Checking and Dropping Missing Values**\n",
    "We only care about the respondents' opinions about all the characters and whether they have checked all of the boxes. We can see that all of the character columns have roughly about the same number of non-null values. A new dataframe containing only the columns relating to the question: `\"Please state whether you view the following characters favorably, unfavorably, or are unfamiliar with him/her.\"` will be created, with all of the missing values dropped."
   ]
  },
  {
   "cell_type": "code",
   "execution_count": 15,
   "metadata": {},
   "outputs": [
    {
     "name": "stdout",
     "output_type": "stream",
     "text": [
      "<class 'pandas.core.frame.DataFrame'>\n",
      "Int64Index: 1186 entries, 1 to 1186\n",
      "Data columns (total 14 columns):\n",
      " #   Column                Non-Null Count  Dtype \n",
      "---  ------                --------------  ----- \n",
      " 0   Han Solo              829 non-null    object\n",
      " 1   Luke Skywalker        831 non-null    object\n",
      " 2   Princess Leia Organa  831 non-null    object\n",
      " 3   Anakin Skywalker      823 non-null    object\n",
      " 4   Obi Wan Kenobi        825 non-null    object\n",
      " 5   Emperor Palpatine     814 non-null    object\n",
      " 6   Darth Vader           826 non-null    object\n",
      " 7   Lando Calrissian      820 non-null    object\n",
      " 8   Boba Fett             812 non-null    object\n",
      " 9   C-3P0                 827 non-null    object\n",
      " 10  R2 D2                 830 non-null    object\n",
      " 11  Jar Jar Binks         821 non-null    object\n",
      " 12  Padme Amidala         814 non-null    object\n",
      " 13  Yoda                  826 non-null    object\n",
      "dtypes: object(14)\n",
      "memory usage: 139.0+ KB\n"
     ]
    }
   ],
   "source": [
    "# check for missing values\n",
    "star_wars.iloc[:, 15:29].info()"
   ]
  },
  {
   "cell_type": "code",
   "execution_count": 16,
   "metadata": {},
   "outputs": [],
   "source": [
    "# create new dataframe of only the characters\n",
    "char = star_wars.iloc[:, 15:29]"
   ]
  },
  {
   "cell_type": "code",
   "execution_count": 17,
   "metadata": {},
   "outputs": [
    {
     "name": "stdout",
     "output_type": "stream",
     "text": [
      "<class 'pandas.core.frame.DataFrame'>\n",
      "Int64Index: 760 entries, 1 to 1186\n",
      "Data columns (total 14 columns):\n",
      " #   Column                Non-Null Count  Dtype \n",
      "---  ------                --------------  ----- \n",
      " 0   Han Solo              760 non-null    object\n",
      " 1   Luke Skywalker        760 non-null    object\n",
      " 2   Princess Leia Organa  760 non-null    object\n",
      " 3   Anakin Skywalker      760 non-null    object\n",
      " 4   Obi Wan Kenobi        760 non-null    object\n",
      " 5   Emperor Palpatine     760 non-null    object\n",
      " 6   Darth Vader           760 non-null    object\n",
      " 7   Lando Calrissian      760 non-null    object\n",
      " 8   Boba Fett             760 non-null    object\n",
      " 9   C-3P0                 760 non-null    object\n",
      " 10  R2 D2                 760 non-null    object\n",
      " 11  Jar Jar Binks         760 non-null    object\n",
      " 12  Padme Amidala         760 non-null    object\n",
      " 13  Yoda                  760 non-null    object\n",
      "dtypes: object(14)\n",
      "memory usage: 89.1+ KB\n"
     ]
    }
   ],
   "source": [
    "# drop missing values\n",
    "char = char.dropna(axis=0)\n",
    "char.info(null_counts=True)"
   ]
  },
  {
   "cell_type": "markdown",
   "metadata": {},
   "source": [
    "---"
   ]
  },
  {
   "cell_type": "markdown",
   "metadata": {},
   "source": [
    "# **Choosing Extracted Values**"
   ]
  },
  {
   "cell_type": "code",
   "execution_count": 18,
   "metadata": {},
   "outputs": [
    {
     "data": {
      "text/plain": [
       "Very favorably                                 561\n",
       "Somewhat favorably                             138\n",
       "Neither favorably nor unfavorably (neutral)     40\n",
       "Unfamiliar (N/A)                                14\n",
       "Somewhat unfavorably                             6\n",
       "Very unfavorably                                 1\n",
       "Name: Han Solo, dtype: int64"
      ]
     },
     "execution_count": 18,
     "metadata": {},
     "output_type": "execute_result"
    }
   ],
   "source": [
    "char['Han Solo'].value_counts()"
   ]
  },
  {
   "cell_type": "markdown",
   "metadata": {},
   "source": [
    "---"
   ]
  },
  {
   "cell_type": "markdown",
   "metadata": {},
   "source": [
    "We are only going to care whether the respondants love, hate, or don't know these characters.\n",
    "\n",
    "Will only focus on the columns:\n",
    " - `['Very favorably']`\n",
    " - `['Very unfavorably']`\n",
    " - `['Unfamiliar (N/A)']`\n",
    "\n",
    "(the other values will not be able to add much to our analysis)\n",
    "\n",
    "Going through the value counts for all the character columns, we will create a new dataframe showing which characters got the most votes for each of the columns we want."
   ]
  },
  {
   "cell_type": "code",
   "execution_count": 140,
   "metadata": {},
   "outputs": [
    {
     "name": "stdout",
     "output_type": "stream",
     "text": [
      "              Characters  Most Favorite\n",
      "0               Han Solo            561\n",
      "1                   Yoda            561\n",
      "2         Obi Wan Kenobi            551\n",
      "3                  R2 D2            514\n",
      "4   Princess Leia Organa            505\n",
      "5         Luke Skywalker            504\n",
      "6                  C-3P0            433\n",
      "7            Darth Vader            286\n",
      "8       Anakin Skywalker            227\n",
      "9          Padme Amidala            156\n",
      "10             Boba Fett            133\n",
      "11      Lando Calrissian            130\n",
      "12     Emperor Palpatine            106\n",
      "13         Jar Jar Binks            101\n",
      "\n",
      "\n",
      "              Characters  Least Favorite\n",
      "0          Jar Jar Binks             195\n",
      "1            Darth Vader             135\n",
      "2      Emperor Palpatine             119\n",
      "3              Boba Fett              42\n",
      "4       Anakin Skywalker              36\n",
      "5          Padme Amidala              31\n",
      "6       Lando Calrissian               8\n",
      "7                  C-3P0               6\n",
      "8                   Yoda               6\n",
      "9         Obi Wan Kenobi               5\n",
      "10  Princess Leia Organa               4\n",
      "11                 R2 D2               4\n",
      "12        Luke Skywalker               2\n",
      "13              Han Solo               1\n",
      "\n",
      "\n",
      "              Characters  Most Unknown\n",
      "0          Padme Amidala           151\n",
      "1      Emperor Palpatine           146\n",
      "2       Lando Calrissian           131\n",
      "3              Boba Fett           124\n",
      "4          Jar Jar Binks            99\n",
      "5       Anakin Skywalker            46\n",
      "6               Han Solo            14\n",
      "7                  C-3P0            13\n",
      "8         Obi Wan Kenobi            12\n",
      "9            Darth Vader             9\n",
      "10                 R2 D2             8\n",
      "11                  Yoda             8\n",
      "12  Princess Leia Organa             7\n",
      "13        Luke Skywalker             6\n"
     ]
    }
   ],
   "source": [
    "fav_dict={}\n",
    "least_dict={}\n",
    "unknown_dict={}\n",
    "\n",
    "# iterate through the extracted character columns\n",
    "for col in char.columns:\n",
    "    # extract the value counts for each of the columns in char into multiple dataframes\n",
    "    stats = pd.DataFrame(char[col].value_counts())\n",
    "    \n",
    "    # extracting spefific data from the value counts into dictionaries\n",
    "    favor = stats.loc['Very favorably', col]\n",
    "    fav_dict[col]=favor\n",
    "    \n",
    "    least = stats.loc['Very unfavorably', col]\n",
    "    least_dict[col]=least\n",
    "    \n",
    "    unknown = stats.loc['Unfamiliar (N/A)', col]\n",
    "    unknown_dict[col]=unknown\n",
    "\n",
    "# sort the fav_dict dictionary; we will later merge this with the other dictionaries based on the values of fav_dict\n",
    "fav_dict = dict(sorted(fav_dict.items(), key=lambda item: item[1], reverse=True))\n",
    "least_dict = dict(sorted(least_dict.items(), key=lambda item: item[1], reverse=True))\n",
    "unknown_dict = dict(sorted(unknown_dict.items(), key=lambda item: item[1], reverse=True))\n",
    "\n",
    "# convert dictionary items into series objects\n",
    "most_favorite = pd.Series(fav_dict).reset_index().rename(columns = {'index': \"Characters\", 0: 'Most Favorite'})\n",
    "least_favorite = pd.Series(least_dict).reset_index().rename(columns = {'index': \"Characters\", 0: 'Least Favorite'})\n",
    "most_unknown = pd.Series(unknown_dict).reset_index().rename(columns = {'index': \"Characters\", 0: 'Most Unknown'})\n",
    "\n",
    "print(most_favorite)\n",
    "print('\\n')\n",
    "print(least_favorite)\n",
    "print('\\n')\n",
    "print(most_unknown)"
   ]
  },
  {
   "cell_type": "markdown",
   "metadata": {},
   "source": [
    "---"
   ]
  },
  {
   "cell_type": "markdown",
   "metadata": {},
   "source": [
    "# **Plotting Each Column of the `pop_sw` Dataframe**"
   ]
  },
  {
   "cell_type": "code",
   "execution_count": 141,
   "metadata": {},
   "outputs": [],
   "source": [
    "# we're going to need this to assign specific columns to categorize by color\n",
    "# what each corresponding color means will be specified in the function of the cell below\n",
    "map_color = {\n",
    "            'Han Solo': 'tab:blue',\n",
    "            'Luke Skywalker': 'tab:blue',\n",
    "            'Princess Leia Organa': 'tab:blue',\n",
    "            'Lando Calrissian': 'tab:blue',\n",
    "            'Boba Fett': 'tab:blue',\n",
    "            'Obi Wan Kenobi': 'tab:purple',\n",
    "            'Yoda': 'tab:purple',\n",
    "            'Emperor Palpatine': 'tab:purple',\n",
    "            'Darth Vader': 'tab:purple',\n",
    "            'C-3P0': 'tab:purple',\n",
    "            'R2 D2': 'tab:purple',\n",
    "            'Anakin Skywalker': 'tab:red',\n",
    "            'Padme Amidala': 'tab:red',\n",
    "            'Jar Jar Binks': 'tab:red'\n",
    "            }"
   ]
  },
  {
   "cell_type": "code",
   "execution_count": 141,
   "metadata": {},
   "outputs": [],
   "source": [
    "# create a function to plot the new character standings dataframes we just made\n",
    "def bar_plot(df):\n",
    "    df.iloc[:,1].plot.bar(color=df['Characters'].replace(map_color))\n",
    "\n",
    "    plt.xticks(ticks=range(0, df.iloc[:,0].shape[0]), labels=df.iloc[:,0])\n",
    "    plt.title(df.columns[1] + ' Characters', fontsize=16, fontweight='bold', pad=10)\n",
    "\n",
    "    red_patch = mpatches.Patch(color='tab:red', label='Prequel Trilogy')\n",
    "    blue_patch = mpatches.Patch(color='tab:blue', label='Original Trilogy')\n",
    "    purple_patch = mpatches.Patch(color='tab:purple', label='Both Trilogies')\n",
    "    plt.legend(handles=[red_patch,blue_patch,purple_patch])\n",
    "\n",
    "    plt.xlabel('Character', fontsize=14, labelpad=10)\n",
    "    plt.ylabel(df.columns[1] + ' Count', fontsize=14, labelpad=20)\n",
    "\n",
    "    plt.show()\n",
    "    print('\\n')"
   ]
  },
  {
   "cell_type": "code",
   "execution_count": 141,
   "metadata": {},
   "outputs": [
    {
     "data": {
      "image/png": "[encoded data removed]",
      "text/plain": [
       "<Figure size 432x288 with 1 Axes>"
      ]
     },
     "metadata": {
      "needs_background": "light"
     },
     "output_type": "display_data"
    },
    {
     "name": "stdout",
     "output_type": "stream",
     "text": [
      "\n",
      "\n"
     ]
    },
    {
     "data": {
      "image/png": "[encoded data removed]",
      "text/plain": [
       "<Figure size 432x288 with 1 Axes>"
      ]
     },
     "metadata": {
      "needs_background": "light"
     },
     "output_type": "display_data"
    },
    {
     "name": "stdout",
     "output_type": "stream",
     "text": [
      "\n",
      "\n"
     ]
    },
    {
     "data": {
      "image/png": "[encoded data removed]",
      "text/plain": [
       "<Figure size 432x288 with 1 Axes>"
      ]
     },
     "metadata": {
      "needs_background": "light"
     },
     "output_type": "display_data"
    },
    {
     "name": "stdout",
     "output_type": "stream",
     "text": [
      "\n",
      "\n"
     ]
    }
   ],
   "source": [
    "bar_plot(df=most_favorite)\n",
    "bar_plot(df=least_favorite)\n",
    "bar_plot(df=most_unknown)"
   ]
  },
  {
   "cell_type": "markdown",
   "metadata": {},
   "source": [
    "# **Findings from Visualizing Popularity of Characters**\n",
    "Recall which characters are from the Original or Prequel Trilogies:\n",
    "\n",
    "|Original Trilogy Characters||Both Trilogies| |Prequel Trilogy Characters|\n",
    "| :----------- | | :----------- | | :----------- |\n",
    "|Han Solo| |Obi Wan Kenobi| |Anakin Skywalker|\n",
    "|Luke Skywalker| |Yoda| |Padme Amidala|\n",
    "|Princess Leia Organa| |Emperor Palpatine| |Jar Jar Binks|\n",
    "|Lando Calrissian| |Darth Vader|\n",
    "|Boba Fett| |C-3P0|\n",
    "| ||R2 D2|\n",
    "\n",
    "It is quite clear the most of the characters from the Original Trilogy are overwhemingly favorites amongst the respondents. Since top favorites are characters like `Luke Skywalker` and `Han Solo`, we can assume that the respondents have a bias towards choosing \"The Empire Strikes Back\" as the best movie because their favorite characters are in that movie. \n",
    "\n",
    "We can also see that the respondents are unfamiliar with and not in favor of characters from the prequel trilogy, which positively correlates with the low ratings of the Prequels."
   ]
  },
  {
   "cell_type": "markdown",
   "metadata": {},
   "source": [
    "---"
   ]
  },
  {
   "cell_type": "markdown",
   "metadata": {},
   "source": [
    "# **Conclusion**\n",
    "We have found a sufficient amount of evidence that supports claims from fans the \"Star Wars Episode V: The Empire Strikes Back\" is the best and the most popular movie of the \"Star Wars\" saga. Backing up this evidence includes the fact that many of the most popular characters are from the Original Trilogy while the Prequel Trilogy is both not as well known and not as favored.\n",
    "\n",
    "We went from cleaning all the values and column names of all the columns that we needed, to extracting columns into separate, more specialized dataframes best suited for our needs. From there, we were about to gain significant insights and make evidence supported deductions from multiple visualizations we've created. Our findings support exactly what movies and characters should be promoted and which ones to be more wary of."
   ]
  }
 ],
 "metadata": {
  "kernelspec": {
   "display_name": "Python 3",
   "language": "python",
   "name": "python3"
  },
  "language_info": {
   "codemirror_mode": {
    "name": "ipython",
    "version": 3
   },
   "file_extension": ".py",
   "mimetype": "text/x-python",
   "name": "python",
   "nbconvert_exporter": "python",
   "pygments_lexer": "ipython3",
   "version": "3.8.5"
  }
 },
 "nbformat": 4,
 "nbformat_minor": 4
}
