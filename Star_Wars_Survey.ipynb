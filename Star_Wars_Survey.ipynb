{
 "cells": [
  {
   "cell_type": "markdown",
   "metadata": {},
   "source": [
    "# **Determining the Best Product to Capitalize On — Analyzing Audience Trends and Preferences in \"Star Wars\"**\n",
    "\n",
    "In this analysis project, we are going to find what exactly do the fans favor the most about in the \"Star Wars\" franchise. This includes who are the most favorite characters and which of the movies (Episodes 1-6) are considered to be the best. To also better understand our audience, we will also be looking into whether there's any differences in patterns between respondents who consider themselves fans against those who don't. By being able to better understand what audiences like and what they don't like about the franchise, there can be a more clear and better optimized direction in product marketing to make the most out of investments into the \"Star Wars\" franchise.\n",
    "\n",
    "The primary question to dive into is whether fans consider \"Star Wars Episode V: The Empire Strikes Back\" to be the best across all of the movies. \n",
    "We will be:\n",
    " - analyzing how many of the respondents have watched each of the movies\n",
    " - what each average rating is for each movie is\n",
    " - create visualizations of: \n",
    "   - who the most and least favorite characters are and who fans are \n",
    "   - who the most unfamiliar characters are \n",
    "   - which movies the top characters are in, which can also support which movie is also the most favorite\n",
    "\n",
    "### **Summary of Results** \n",
    "By the end of the project we will have found that \"Star Wars Episode V: The Empire Strikes Back\" is indeed the most popular and highest rated movie, with \"Star Wars Episode VI: Return of the Jedi\" as a close second. There are many characters making prominant appearances in Episode V — including Han Solo, Yoda, and Luke Skywalker — that are popular favorites. These findings makes the answer clear that fans prefer not just Episode V over all of the movies, but that they also they prefer the Original Trilogy over the Prequel Trilogy overall by a large margin."
   ]
  },
  {
   "cell_type": "markdown",
   "metadata": {},
   "source": [
    "---"
   ]
  },
  {
   "cell_type": "markdown",
   "metadata": {},
   "source": [
    "# **Reading in the Dataset**\n",
    "In the analysis below, our data will be taken from a survey of 835 total responses by a team at [FiveThirtyEight](https://fivethirtyeight.com/). You can download the survey data at their [GitHub repository](https://github.com/fivethirtyeight/data/tree/master/star-wars-survey) or at [my own repository](https://github.com/willnguyen14/Star-Wars-Survey) for this project."
   ]
  },
  {
   "cell_type": "code",
   "execution_count": 1,
   "metadata": {},
   "outputs": [
    {
     "name": "stdout",
     "output_type": "stream",
     "text": [
      "Index(['RespondentID',\n",
      "       'Have you seen any of the 6 films in the Star Wars franchise?',\n",
      "       'Do you consider yourself to be a fan of the Star Wars film franchise?',\n",
      "       'Which of the following Star Wars films have you seen? Please select all that apply.',\n",
      "       'Unnamed: 4', 'Unnamed: 5', 'Unnamed: 6', 'Unnamed: 7', 'Unnamed: 8',\n",
      "       'Please rank the Star Wars films in order of preference with 1 being your favorite film in the franchise and 6 being your least favorite film.',\n",
      "       'Unnamed: 10', 'Unnamed: 11', 'Unnamed: 12', 'Unnamed: 13',\n",
      "       'Unnamed: 14',\n",
      "       'Please state whether you view the following characters favorably, unfavorably, or are unfamiliar with him/her.',\n",
      "       'Unnamed: 16', 'Unnamed: 17', 'Unnamed: 18', 'Unnamed: 19',\n",
      "       'Unnamed: 20', 'Unnamed: 21', 'Unnamed: 22', 'Unnamed: 23',\n",
      "       'Unnamed: 24', 'Unnamed: 25', 'Unnamed: 26', 'Unnamed: 27',\n",
      "       'Unnamed: 28', 'Which character shot first?',\n",
      "       'Are you familiar with the Expanded Universe?',\n",
      "       'Do you consider yourself to be a fan of the Expanded Universe?ÂÃ¦',\n",
      "       'Do you consider yourself to be a fan of the Star Trek franchise?',\n",
      "       'Gender', 'Age', 'Household Income', 'Education',\n",
      "       'Location (Census Region)'],\n",
      "      dtype='object')\n",
      "\n",
      "\n"
     ]
    },
    {
     "data": {
      "text/html": [
       "<div>\n",
       "<style scoped>\n",
       "    .dataframe tbody tr th:only-of-type {\n",
       "        vertical-align: middle;\n",
       "    }\n",
       "\n",
       "    .dataframe tbody tr th {\n",
       "        vertical-align: top;\n",
       "    }\n",
       "\n",
       "    .dataframe thead th {\n",
       "        text-align: right;\n",
       "    }\n",
       "</style>\n",
       "<table border=\"1\" class=\"dataframe\">\n",
       "  <thead>\n",
       "    <tr style=\"text-align: right;\">\n",
       "      <th></th>\n",
       "      <th>RespondentID</th>\n",
       "      <th>Have you seen any of the 6 films in the Star Wars franchise?</th>\n",
       "      <th>Do you consider yourself to be a fan of the Star Wars film franchise?</th>\n",
       "      <th>Which of the following Star Wars films have you seen? Please select all that apply.</th>\n",
       "      <th>Unnamed: 4</th>\n",
       "      <th>Unnamed: 5</th>\n",
       "      <th>Unnamed: 6</th>\n",
       "      <th>Unnamed: 7</th>\n",
       "      <th>Unnamed: 8</th>\n",
       "      <th>Please rank the Star Wars films in order of preference with 1 being your favorite film in the franchise and 6 being your least favorite film.</th>\n",
       "      <th>...</th>\n",
       "      <th>Unnamed: 28</th>\n",
       "      <th>Which character shot first?</th>\n",
       "      <th>Are you familiar with the Expanded Universe?</th>\n",
       "      <th>Do you consider yourself to be a fan of the Expanded Universe?ÂÃ¦</th>\n",
       "      <th>Do you consider yourself to be a fan of the Star Trek franchise?</th>\n",
       "      <th>Gender</th>\n",
       "      <th>Age</th>\n",
       "      <th>Household Income</th>\n",
       "      <th>Education</th>\n",
       "      <th>Location (Census Region)</th>\n",
       "    </tr>\n",
       "  </thead>\n",
       "  <tbody>\n",
       "    <tr>\n",
       "      <th>0</th>\n",
       "      <td>NaN</td>\n",
       "      <td>Response</td>\n",
       "      <td>Response</td>\n",
       "      <td>Star Wars: Episode I  The Phantom Menace</td>\n",
       "      <td>Star Wars: Episode II  Attack of the Clones</td>\n",
       "      <td>Star Wars: Episode III  Revenge of the Sith</td>\n",
       "      <td>Star Wars: Episode IV  A New Hope</td>\n",
       "      <td>Star Wars: Episode V The Empire Strikes Back</td>\n",
       "      <td>Star Wars: Episode VI Return of the Jedi</td>\n",
       "      <td>Star Wars: Episode I  The Phantom Menace</td>\n",
       "      <td>...</td>\n",
       "      <td>Yoda</td>\n",
       "      <td>Response</td>\n",
       "      <td>Response</td>\n",
       "      <td>Response</td>\n",
       "      <td>Response</td>\n",
       "      <td>Response</td>\n",
       "      <td>Response</td>\n",
       "      <td>Response</td>\n",
       "      <td>Response</td>\n",
       "      <td>Response</td>\n",
       "    </tr>\n",
       "    <tr>\n",
       "      <th>1</th>\n",
       "      <td>3.292880e+09</td>\n",
       "      <td>Yes</td>\n",
       "      <td>Yes</td>\n",
       "      <td>Star Wars: Episode I  The Phantom Menace</td>\n",
       "      <td>Star Wars: Episode II  Attack of the Clones</td>\n",
       "      <td>Star Wars: Episode III  Revenge of the Sith</td>\n",
       "      <td>Star Wars: Episode IV  A New Hope</td>\n",
       "      <td>Star Wars: Episode V The Empire Strikes Back</td>\n",
       "      <td>Star Wars: Episode VI Return of the Jedi</td>\n",
       "      <td>3</td>\n",
       "      <td>...</td>\n",
       "      <td>Very favorably</td>\n",
       "      <td>I don't understand this question</td>\n",
       "      <td>Yes</td>\n",
       "      <td>No</td>\n",
       "      <td>No</td>\n",
       "      <td>Male</td>\n",
       "      <td>18-29</td>\n",
       "      <td>NaN</td>\n",
       "      <td>High school degree</td>\n",
       "      <td>South Atlantic</td>\n",
       "    </tr>\n",
       "    <tr>\n",
       "      <th>2</th>\n",
       "      <td>3.292880e+09</td>\n",
       "      <td>No</td>\n",
       "      <td>NaN</td>\n",
       "      <td>NaN</td>\n",
       "      <td>NaN</td>\n",
       "      <td>NaN</td>\n",
       "      <td>NaN</td>\n",
       "      <td>NaN</td>\n",
       "      <td>NaN</td>\n",
       "      <td>NaN</td>\n",
       "      <td>...</td>\n",
       "      <td>NaN</td>\n",
       "      <td>NaN</td>\n",
       "      <td>NaN</td>\n",
       "      <td>NaN</td>\n",
       "      <td>Yes</td>\n",
       "      <td>Male</td>\n",
       "      <td>18-29</td>\n",
       "      <td>$0 - $24,999</td>\n",
       "      <td>Bachelor degree</td>\n",
       "      <td>West South Central</td>\n",
       "    </tr>\n",
       "    <tr>\n",
       "      <th>3</th>\n",
       "      <td>3.292765e+09</td>\n",
       "      <td>Yes</td>\n",
       "      <td>No</td>\n",
       "      <td>Star Wars: Episode I  The Phantom Menace</td>\n",
       "      <td>Star Wars: Episode II  Attack of the Clones</td>\n",
       "      <td>Star Wars: Episode III  Revenge of the Sith</td>\n",
       "      <td>NaN</td>\n",
       "      <td>NaN</td>\n",
       "      <td>NaN</td>\n",
       "      <td>1</td>\n",
       "      <td>...</td>\n",
       "      <td>Unfamiliar (N/A)</td>\n",
       "      <td>I don't understand this question</td>\n",
       "      <td>No</td>\n",
       "      <td>NaN</td>\n",
       "      <td>No</td>\n",
       "      <td>Male</td>\n",
       "      <td>18-29</td>\n",
       "      <td>$0 - $24,999</td>\n",
       "      <td>High school degree</td>\n",
       "      <td>West North Central</td>\n",
       "    </tr>\n",
       "    <tr>\n",
       "      <th>4</th>\n",
       "      <td>3.292763e+09</td>\n",
       "      <td>Yes</td>\n",
       "      <td>Yes</td>\n",
       "      <td>Star Wars: Episode I  The Phantom Menace</td>\n",
       "      <td>Star Wars: Episode II  Attack of the Clones</td>\n",
       "      <td>Star Wars: Episode III  Revenge of the Sith</td>\n",
       "      <td>Star Wars: Episode IV  A New Hope</td>\n",
       "      <td>Star Wars: Episode V The Empire Strikes Back</td>\n",
       "      <td>Star Wars: Episode VI Return of the Jedi</td>\n",
       "      <td>5</td>\n",
       "      <td>...</td>\n",
       "      <td>Very favorably</td>\n",
       "      <td>I don't understand this question</td>\n",
       "      <td>No</td>\n",
       "      <td>NaN</td>\n",
       "      <td>Yes</td>\n",
       "      <td>Male</td>\n",
       "      <td>18-29</td>\n",
       "      <td>$100,000 - $149,999</td>\n",
       "      <td>Some college or Associate degree</td>\n",
       "      <td>West North Central</td>\n",
       "    </tr>\n",
       "  </tbody>\n",
       "</table>\n",
       "<p>5 rows × 38 columns</p>\n",
       "</div>"
      ],
      "text/plain": [
       "   RespondentID Have you seen any of the 6 films in the Star Wars franchise?  \\\n",
       "0           NaN                                           Response             \n",
       "1  3.292880e+09                                                Yes             \n",
       "2  3.292880e+09                                                 No             \n",
       "3  3.292765e+09                                                Yes             \n",
       "4  3.292763e+09                                                Yes             \n",
       "\n",
       "  Do you consider yourself to be a fan of the Star Wars film franchise?  \\\n",
       "0                                           Response                      \n",
       "1                                                Yes                      \n",
       "2                                                NaN                      \n",
       "3                                                 No                      \n",
       "4                                                Yes                      \n",
       "\n",
       "  Which of the following Star Wars films have you seen? Please select all that apply.  \\\n",
       "0           Star Wars: Episode I  The Phantom Menace                                    \n",
       "1           Star Wars: Episode I  The Phantom Menace                                    \n",
       "2                                                NaN                                    \n",
       "3           Star Wars: Episode I  The Phantom Menace                                    \n",
       "4           Star Wars: Episode I  The Phantom Menace                                    \n",
       "\n",
       "                                    Unnamed: 4  \\\n",
       "0  Star Wars: Episode II  Attack of the Clones   \n",
       "1  Star Wars: Episode II  Attack of the Clones   \n",
       "2                                          NaN   \n",
       "3  Star Wars: Episode II  Attack of the Clones   \n",
       "4  Star Wars: Episode II  Attack of the Clones   \n",
       "\n",
       "                                    Unnamed: 5  \\\n",
       "0  Star Wars: Episode III  Revenge of the Sith   \n",
       "1  Star Wars: Episode III  Revenge of the Sith   \n",
       "2                                          NaN   \n",
       "3  Star Wars: Episode III  Revenge of the Sith   \n",
       "4  Star Wars: Episode III  Revenge of the Sith   \n",
       "\n",
       "                          Unnamed: 6  \\\n",
       "0  Star Wars: Episode IV  A New Hope   \n",
       "1  Star Wars: Episode IV  A New Hope   \n",
       "2                                NaN   \n",
       "3                                NaN   \n",
       "4  Star Wars: Episode IV  A New Hope   \n",
       "\n",
       "                                     Unnamed: 7  \\\n",
       "0  Star Wars: Episode V The Empire Strikes Back   \n",
       "1  Star Wars: Episode V The Empire Strikes Back   \n",
       "2                                           NaN   \n",
       "3                                           NaN   \n",
       "4  Star Wars: Episode V The Empire Strikes Back   \n",
       "\n",
       "                                 Unnamed: 8  \\\n",
       "0  Star Wars: Episode VI Return of the Jedi   \n",
       "1  Star Wars: Episode VI Return of the Jedi   \n",
       "2                                       NaN   \n",
       "3                                       NaN   \n",
       "4  Star Wars: Episode VI Return of the Jedi   \n",
       "\n",
       "  Please rank the Star Wars films in order of preference with 1 being your favorite film in the franchise and 6 being your least favorite film.  \\\n",
       "0           Star Wars: Episode I  The Phantom Menace                                                                                              \n",
       "1                                                  3                                                                                              \n",
       "2                                                NaN                                                                                              \n",
       "3                                                  1                                                                                              \n",
       "4                                                  5                                                                                              \n",
       "\n",
       "   ...       Unnamed: 28       Which character shot first?  \\\n",
       "0  ...              Yoda                          Response   \n",
       "1  ...    Very favorably  I don't understand this question   \n",
       "2  ...               NaN                               NaN   \n",
       "3  ...  Unfamiliar (N/A)  I don't understand this question   \n",
       "4  ...    Very favorably  I don't understand this question   \n",
       "\n",
       "  Are you familiar with the Expanded Universe?  \\\n",
       "0                                     Response   \n",
       "1                                          Yes   \n",
       "2                                          NaN   \n",
       "3                                           No   \n",
       "4                                           No   \n",
       "\n",
       "  Do you consider yourself to be a fan of the Expanded Universe?ÂÃ¦  \\\n",
       "0                                           Response                   \n",
       "1                                                 No                   \n",
       "2                                                NaN                   \n",
       "3                                                NaN                   \n",
       "4                                                NaN                   \n",
       "\n",
       "  Do you consider yourself to be a fan of the Star Trek franchise?    Gender  \\\n",
       "0                                           Response                Response   \n",
       "1                                                 No                    Male   \n",
       "2                                                Yes                    Male   \n",
       "3                                                 No                    Male   \n",
       "4                                                Yes                    Male   \n",
       "\n",
       "        Age     Household Income                         Education  \\\n",
       "0  Response             Response                          Response   \n",
       "1     18-29                  NaN                High school degree   \n",
       "2     18-29         $0 - $24,999                   Bachelor degree   \n",
       "3     18-29         $0 - $24,999                High school degree   \n",
       "4     18-29  $100,000 - $149,999  Some college or Associate degree   \n",
       "\n",
       "  Location (Census Region)  \n",
       "0                 Response  \n",
       "1           South Atlantic  \n",
       "2       West South Central  \n",
       "3       West North Central  \n",
       "4       West North Central  \n",
       "\n",
       "[5 rows x 38 columns]"
      ]
     },
     "metadata": {},
     "output_type": "display_data"
    }
   ],
   "source": [
    "# read in the data\n",
    "import pandas as pd\n",
    "from IPython.display import display\n",
    "\n",
    "star_wars = pd.read_csv(\"star_wars.csv\", encoding=\"ISO-8859-1\")\n",
    "# the data set has some characters that aren't in Python's default utf-8 encoding\n",
    "\n",
    "# initial exploration of the data\n",
    "print(star_wars.columns)\n",
    "print(\"\\n\")\n",
    "display(star_wars.head())"
   ]
  },
  {
   "cell_type": "markdown",
   "metadata": {},
   "source": [
    "# **What's in the Data?**\n",
    "We can see immediately that there are many columns names that are ambiguous in their meaning at first glance (e.g. `'Unnamed: 4'`). There are also several cases where a respondent had to give input to several columns to answer a single question. `'RespondentID'` is a unique identifier for each respondent. If any row is missing a value from this column, the row will be deemed as invalid. Hence, we will remove all rows with missing values in the `'RespondentID'` column.\n",
    "\n",
    "Before we can attempt any type of meanful analysis, we will need to dedicate effort into cleaning much of this dataset."
   ]
  },
  {
   "cell_type": "code",
   "execution_count": 2,
   "metadata": {},
   "outputs": [],
   "source": [
    "# 'RespondentID' has missing values, so we will remove all rows with missing 'RespondentID' values\n",
    "star_wars = star_wars[pd.notnull(star_wars['RespondentID'])]"
   ]
  },
  {
   "cell_type": "markdown",
   "metadata": {},
   "source": [
    "---"
   ]
  },
  {
   "cell_type": "markdown",
   "metadata": {},
   "source": [
    "# **Cleaning and Mapping Yes/No Columns**"
   ]
  },
  {
   "cell_type": "code",
   "execution_count": 3,
   "metadata": {},
   "outputs": [
    {
     "data": {
      "text/html": [
       "<div>\n",
       "<style scoped>\n",
       "    .dataframe tbody tr th:only-of-type {\n",
       "        vertical-align: middle;\n",
       "    }\n",
       "\n",
       "    .dataframe tbody tr th {\n",
       "        vertical-align: top;\n",
       "    }\n",
       "\n",
       "    .dataframe thead th {\n",
       "        text-align: right;\n",
       "    }\n",
       "</style>\n",
       "<table border=\"1\" class=\"dataframe\">\n",
       "  <thead>\n",
       "    <tr style=\"text-align: right;\">\n",
       "      <th></th>\n",
       "      <th>Have you seen any of the 6 films in the Star Wars franchise?</th>\n",
       "      <th>Do you consider yourself to be a fan of the Star Wars film franchise?</th>\n",
       "    </tr>\n",
       "  </thead>\n",
       "  <tbody>\n",
       "    <tr>\n",
       "      <th>1</th>\n",
       "      <td>True</td>\n",
       "      <td>True</td>\n",
       "    </tr>\n",
       "    <tr>\n",
       "      <th>2</th>\n",
       "      <td>False</td>\n",
       "      <td>NaN</td>\n",
       "    </tr>\n",
       "    <tr>\n",
       "      <th>3</th>\n",
       "      <td>True</td>\n",
       "      <td>False</td>\n",
       "    </tr>\n",
       "    <tr>\n",
       "      <th>4</th>\n",
       "      <td>True</td>\n",
       "      <td>True</td>\n",
       "    </tr>\n",
       "    <tr>\n",
       "      <th>5</th>\n",
       "      <td>True</td>\n",
       "      <td>True</td>\n",
       "    </tr>\n",
       "  </tbody>\n",
       "</table>\n",
       "</div>"
      ],
      "text/plain": [
       "   Have you seen any of the 6 films in the Star Wars franchise?  \\\n",
       "1                                               True              \n",
       "2                                              False              \n",
       "3                                               True              \n",
       "4                                               True              \n",
       "5                                               True              \n",
       "\n",
       "  Do you consider yourself to be a fan of the Star Wars film franchise?  \n",
       "1                                               True                     \n",
       "2                                                NaN                     \n",
       "3                                              False                     \n",
       "4                                               True                     \n",
       "5                                               True                     "
      ]
     },
     "execution_count": 3,
     "metadata": {},
     "output_type": "execute_result"
    }
   ],
   "source": [
    "# easier to work with True/False Boolean values rather than string \"Yes\"/\"No\"\n",
    "yes_no = {\"Yes\": True, \"No\": False}\n",
    "\n",
    "# column names are long, so they'll be stored into a variable\n",
    "col_seen = \"Have you seen any of the 6 films in the Star Wars franchise?\"\n",
    "col_fan = \"Do you consider yourself to be a fan of the Star Wars film franchise?\"\n",
    "\n",
    "star_wars[col_seen] = star_wars[col_seen].map(yes_no)\n",
    "star_wars[col_fan] = star_wars[col_fan].map(yes_no)\n",
    "\n",
    "star_wars[[col_seen, col_fan]].head()"
   ]
  },
  {
   "cell_type": "markdown",
   "metadata": {},
   "source": [
    "---"
   ]
  },
  {
   "cell_type": "markdown",
   "metadata": {},
   "source": [
    "# **Cleaning and Mapping Checkbox Columns**\n",
    "The following six columns are a series of checkbox columns a respondent must check off the question: `\"Which of the following Star Wars films have you seen? Please select all that apply.\"`. In each column, there is only either the name of the movie that they saw, or no response at all, meaning that they haven't seen the movie.\n",
    "\n",
    "To make these columns easier to work with, we will all of these values into True/False Boolean values and will rename the column names into something more intuitive."
   ]
  },
  {
   "cell_type": "code",
   "execution_count": 4,
   "metadata": {},
   "outputs": [
    {
     "data": {
      "text/plain": [
       "Index(['Which of the following Star Wars films have you seen? Please select all that apply.',\n",
       "       'Unnamed: 4', 'Unnamed: 5', 'Unnamed: 6', 'Unnamed: 7', 'Unnamed: 8'],\n",
       "      dtype='object')"
      ]
     },
     "metadata": {},
     "output_type": "display_data"
    },
    {
     "name": "stdout",
     "output_type": "stream",
     "text": [
      "\n",
      "\n"
     ]
    },
    {
     "data": {
      "text/plain": [
       "Index(['seen_1', 'seen_2', 'seen_3', 'seen_4', 'seen_5', 'seen_6'], dtype='object')"
      ]
     },
     "execution_count": 4,
     "metadata": {},
     "output_type": "execute_result"
    }
   ],
   "source": [
    "# check the column names\n",
    "display(star_wars.iloc[:, 3:9].columns)\n",
    "\n",
    "# rename column corresponding to \"Which of the following Star Wars films have you seen?\"\n",
    "star_wars = star_wars.rename(columns = {\n",
    "    star_wars.columns[3]: \"seen_1\",\n",
    "    star_wars.columns[4]: \"seen_2\",\n",
    "    star_wars.columns[5]: \"seen_3\",\n",
    "    star_wars.columns[6]: \"seen_4\",\n",
    "    star_wars.columns[7]: \"seen_5\",\n",
    "    star_wars.columns[8]: \"seen_6\"\n",
    "})\n",
    "print(\"\\n\")\n",
    "\n",
    "# make sure that the column name changes are in place\n",
    "star_wars.iloc[:, 3:9].columns"
   ]
  },
  {
   "cell_type": "code",
   "execution_count": 5,
   "metadata": {},
   "outputs": [
    {
     "data": {
      "text/html": [
       "<div>\n",
       "<style scoped>\n",
       "    .dataframe tbody tr th:only-of-type {\n",
       "        vertical-align: middle;\n",
       "    }\n",
       "\n",
       "    .dataframe tbody tr th {\n",
       "        vertical-align: top;\n",
       "    }\n",
       "\n",
       "    .dataframe thead th {\n",
       "        text-align: right;\n",
       "    }\n",
       "</style>\n",
       "<table border=\"1\" class=\"dataframe\">\n",
       "  <thead>\n",
       "    <tr style=\"text-align: right;\">\n",
       "      <th></th>\n",
       "      <th>seen_1</th>\n",
       "      <th>seen_2</th>\n",
       "      <th>seen_3</th>\n",
       "      <th>seen_4</th>\n",
       "      <th>seen_5</th>\n",
       "      <th>seen_6</th>\n",
       "    </tr>\n",
       "  </thead>\n",
       "  <tbody>\n",
       "    <tr>\n",
       "      <th>1</th>\n",
       "      <td>True</td>\n",
       "      <td>True</td>\n",
       "      <td>True</td>\n",
       "      <td>True</td>\n",
       "      <td>True</td>\n",
       "      <td>True</td>\n",
       "    </tr>\n",
       "    <tr>\n",
       "      <th>2</th>\n",
       "      <td>False</td>\n",
       "      <td>False</td>\n",
       "      <td>False</td>\n",
       "      <td>False</td>\n",
       "      <td>False</td>\n",
       "      <td>False</td>\n",
       "    </tr>\n",
       "    <tr>\n",
       "      <th>3</th>\n",
       "      <td>True</td>\n",
       "      <td>True</td>\n",
       "      <td>True</td>\n",
       "      <td>False</td>\n",
       "      <td>False</td>\n",
       "      <td>False</td>\n",
       "    </tr>\n",
       "    <tr>\n",
       "      <th>4</th>\n",
       "      <td>True</td>\n",
       "      <td>True</td>\n",
       "      <td>True</td>\n",
       "      <td>True</td>\n",
       "      <td>True</td>\n",
       "      <td>True</td>\n",
       "    </tr>\n",
       "    <tr>\n",
       "      <th>5</th>\n",
       "      <td>True</td>\n",
       "      <td>True</td>\n",
       "      <td>True</td>\n",
       "      <td>True</td>\n",
       "      <td>True</td>\n",
       "      <td>True</td>\n",
       "    </tr>\n",
       "  </tbody>\n",
       "</table>\n",
       "</div>"
      ],
      "text/plain": [
       "   seen_1  seen_2  seen_3  seen_4  seen_5  seen_6\n",
       "1    True    True    True    True    True    True\n",
       "2   False   False   False   False   False   False\n",
       "3    True    True    True   False   False   False\n",
       "4    True    True    True    True    True    True\n",
       "5    True    True    True    True    True    True"
      ]
     },
     "metadata": {},
     "output_type": "display_data"
    },
    {
     "name": "stdout",
     "output_type": "stream",
     "text": [
      "\n",
      "\n",
      "<class 'pandas.core.frame.DataFrame'>\n",
      "Int64Index: 1186 entries, 1 to 1186\n",
      "Data columns (total 6 columns):\n",
      " #   Column  Non-Null Count  Dtype\n",
      "---  ------  --------------  -----\n",
      " 0   seen_1  1186 non-null   bool \n",
      " 1   seen_2  1186 non-null   bool \n",
      " 2   seen_3  1186 non-null   bool \n",
      " 3   seen_4  1186 non-null   bool \n",
      " 4   seen_5  1186 non-null   bool \n",
      " 5   seen_6  1186 non-null   bool \n",
      "dtypes: bool(6)\n",
      "memory usage: 16.2 KB\n"
     ]
    }
   ],
   "source": [
    "import numpy as np     # import numpy because we are now dealing with NaN values\n",
    "\n",
    "# Be careful as there is a double space between the episode number and title for the first four movies\n",
    "map1 = {\n",
    "                                            np.NaN: False,\n",
    "        \"Star Wars: Episode I  The Phantom Menace\": True,\n",
    "     \"Star Wars: Episode II  Attack of the Clones\": True,\n",
    "     \"Star Wars: Episode III  Revenge of the Sith\": True,\n",
    "               \"Star Wars: Episode IV  A New Hope\": True,\n",
    "    \"Star Wars: Episode V The Empire Strikes Back\": True,\n",
    "        \"Star Wars: Episode VI Return of the Jedi\": True,\n",
    "       }\n",
    "\n",
    "# apply the mapping to the intended columns\n",
    "for col in star_wars.loc[:, \"seen_1\":\"seen_6\"]:\n",
    "    star_wars[col] = star_wars[col].map(map1)\n",
    "    \n",
    "display(star_wars.loc[:, \"seen_1\":\"seen_6\"].head())\n",
    "print('\\n')\n",
    "\n",
    "# check for missing values\n",
    "star_wars.loc[:, \"seen_1\":\"seen_6\"].info()"
   ]
  },
  {
   "cell_type": "markdown",
   "metadata": {},
   "source": [
    "---"
   ]
  },
  {
   "cell_type": "markdown",
   "metadata": {},
   "source": [
    "# **Cleaning the Ranking Columns**\n",
    "The next six columns are the same case as the last three: a series of checkbox columns in response to the question `\"Please rank the Star Wars films in order of preference with 1 being your favorite film in the franchise and 6 being your least favorite film.\"`\n",
    "\n",
    "These columns will also be renamed into something that is much easier to work with."
   ]
  },
  {
   "cell_type": "code",
   "execution_count": 6,
   "metadata": {},
   "outputs": [
    {
     "name": "stdout",
     "output_type": "stream",
     "text": [
      "<class 'pandas.core.frame.DataFrame'>\n",
      "Int64Index: 1186 entries, 1 to 1186\n",
      "Data columns (total 6 columns):\n",
      " #   Column                                                                                                                                         Non-Null Count  Dtype \n",
      "---  ------                                                                                                                                         --------------  ----- \n",
      " 0   Please rank the Star Wars films in order of preference with 1 being your favorite film in the franchise and 6 being your least favorite film.  835 non-null    object\n",
      " 1   Unnamed: 10                                                                                                                                    836 non-null    object\n",
      " 2   Unnamed: 11                                                                                                                                    835 non-null    object\n",
      " 3   Unnamed: 12                                                                                                                                    836 non-null    object\n",
      " 4   Unnamed: 13                                                                                                                                    836 non-null    object\n",
      " 5   Unnamed: 14                                                                                                                                    836 non-null    object\n",
      "dtypes: object(6)\n",
      "memory usage: 64.9+ KB\n"
     ]
    },
    {
     "data": {
      "text/plain": [
       "None"
      ]
     },
     "metadata": {},
     "output_type": "display_data"
    },
    {
     "name": "stdout",
     "output_type": "stream",
     "text": [
      "\n",
      "\n",
      "<class 'pandas.core.frame.DataFrame'>\n",
      "Int64Index: 1186 entries, 1 to 1186\n",
      "Data columns (total 6 columns):\n",
      " #   Column     Non-Null Count  Dtype  \n",
      "---  ------     --------------  -----  \n",
      " 0   ranking_1  834 non-null    float64\n",
      " 1   ranking_2  834 non-null    float64\n",
      " 2   ranking_3  834 non-null    float64\n",
      " 3   ranking_4  834 non-null    float64\n",
      " 4   ranking_5  834 non-null    float64\n",
      " 5   ranking_6  834 non-null    float64\n",
      "dtypes: float64(6)\n",
      "memory usage: 64.9 KB\n"
     ]
    }
   ],
   "source": [
    "# all of the values are numbers that are in string format\n",
    "display(star_wars.iloc[:, 9:15].info())\n",
    "\n",
    "# convert all the values into the float dtype for easier computation\n",
    "star_wars.iloc[:, 9:15] = star_wars.iloc[:, 9:15].astype(float)\n",
    "\n",
    "# rename the columns into something shorter and more intuitive\n",
    "star_wars = star_wars.rename(columns = {\n",
    "                star_wars.columns[9]: \"ranking_1\",\n",
    "                star_wars.columns[10]: \"ranking_2\",\n",
    "                star_wars.columns[11]: \"ranking_3\",\n",
    "                star_wars.columns[12]: \"ranking_4\",\n",
    "                star_wars.columns[13]: \"ranking_5\",\n",
    "                star_wars.columns[14]: \"ranking_6\"\n",
    "                                        })\n",
    "\n",
    "star_wars.iloc[:, 9:15] = star_wars.iloc[:, 9:15].dropna(axis=0)\n",
    "print('\\n')\n",
    "\n",
    "star_wars.iloc[:, 9:15].info()"
   ]
  },
  {
   "cell_type": "markdown",
   "metadata": {},
   "source": [
    "---"
   ]
  },
  {
   "cell_type": "markdown",
   "metadata": {},
   "source": [
    "# **What is the Highest-Ranked and Most Viewed Movie?**\n",
    "To compare both the ranking scores and number of views for each movie, we will take the averages of all the columns and plot them onto bar graphs with matplotlib.\n",
    "\n",
    "It seems like the more popular the movie is, the higher they ranked it (lower numberic score means higher rank), and as movies have less views, the lower they are ranked. In this case, most people have seen the Original Trilogy (Episodes 4-6) and also favored the trilogy much higher than the Prequels (Episodes 1-3)."
   ]
  },
  {
   "cell_type": "code",
   "execution_count": 7,
   "metadata": {},
   "outputs": [
    {
     "data": {
      "image/png": "[encoded data removed]",
      "text/plain": [
       "<Figure size 432x288 with 1 Axes>"
      ]
     },
     "metadata": {
      "needs_background": "light"
     },
     "output_type": "display_data"
    },
    {
     "name": "stdout",
     "output_type": "stream",
     "text": [
      "\n",
      "\n"
     ]
    },
    {
     "data": {
      "image/png": "[encoded data removed]",
      "text/plain": [
       "<Figure size 432x288 with 1 Axes>"
      ]
     },
     "metadata": {
      "needs_background": "light"
     },
     "output_type": "display_data"
    },
    {
     "name": "stdout",
     "output_type": "stream",
     "text": [
      "\n",
      "\n"
     ]
    }
   ],
   "source": [
    "import matplotlib.pyplot as plt\n",
    "import matplotlib.patches as mpatches\n",
    "# mpatches is imported for making customizable legends\n",
    "\n",
    "%matplotlib inline\n",
    "# this is to make sure that our plots are actually displayed when we run our code\n",
    "\n",
    "# create a function to graph the rankings\n",
    "def ranking(df, title, y_axis):\n",
    "    df.iloc[:, 9:15].mean().plot.bar(color=['teal', 'teal', 'teal', \n",
    "                                            'rosybrown', 'rosybrown', 'rosybrown'])\n",
    "    \n",
    "    plt.title(title, fontsize=16, fontweight='bold', pad=10)\n",
    "\n",
    "    # customize legend with mpatches\n",
    "    teal_patch = mpatches.Patch(color='teal', label='Prequel Trilogy Rankings')\n",
    "    rosy_patch = mpatches.Patch(color='rosybrown', label='Original Trilogy Rankings')\n",
    "    plt.legend(handles=[teal_patch,rosy_patch], loc='upper left', bbox_to_anchor=(1, 1))\n",
    "\n",
    "    # remove all spines and tick marks\n",
    "    plt.gca().spines['top'].set_visible(False)\n",
    "    plt.gca().spines['right'].set_visible(False)\n",
    "    plt.gca().spines['left'].set_visible(False)\n",
    "    plt.gca().spines['bottom'].set_visible(False)\n",
    "    plt.tick_params(left=False, bottom=False)\n",
    "    \n",
    "    plt.xticks(ticks=[0,1,2,3,4,5], rotation='horizontal',\n",
    "               labels=['Episode 1','Episode 2','Episode 3','Episode 4','Episode 5','Episode 6'])\n",
    "    \n",
    "    plt.xlabel('Movie', fontsize=14, labelpad=20)\n",
    "    plt.ylabel(y_axis, fontsize=14, labelpad=20)\n",
    "    \n",
    "    plt.show()\n",
    "    print('\\n')\n",
    "    \n",
    "# create a function to graph the view counts\n",
    "def views(df, title, y_axis):\n",
    "    df.loc[:, \"seen_1\":\"seen_6\"].sum().plot.bar(color=['peachpuff', 'peachpuff', 'peachpuff', \n",
    "                                                       'palevioletred', 'palevioletred', 'palevioletred'])\n",
    "    \n",
    "    plt.title(title, fontsize=16, fontweight='bold', pad=10)\n",
    "\n",
    "    peach_patch = mpatches.Patch(color='peachpuff', label='Prequel Trilogy Views')\n",
    "    pale_patch = mpatches.Patch(color='palevioletred', label='Original Trilogy Views')\n",
    "    plt.legend(handles=[peach_patch, pale_patch], loc='upper left', bbox_to_anchor=(1, 1))\n",
    "\n",
    "    plt.gca().spines['top'].set_visible(False)\n",
    "    plt.gca().spines['right'].set_visible(False)\n",
    "    plt.gca().spines['left'].set_visible(False)\n",
    "    plt.gca().spines['bottom'].set_visible(False)\n",
    "    plt.tick_params(left=False, bottom=False)\n",
    "    \n",
    "    plt.xticks(ticks=[0,1,2,3,4,5], rotation='horizontal',\n",
    "               labels=['Episode 1','Episode 2','Episode 3','Episode 4','Episode 5','Episode 6'])\n",
    "    \n",
    "    plt.xlabel('Movie', fontsize=14, labelpad=20)\n",
    "    plt.ylabel(y_axis, fontsize=14, labelpad=20)\n",
    "    \n",
    "    plt.show()\n",
    "    print('\\n')\n",
    "    \n",
    "# remember that the lower a ranking is, the more favorable that movie\n",
    "ranking(df=star_wars, title='Rankings', y_axis='Average Ranking')\n",
    "views(df=star_wars, title='Views', y_axis='Average View Count')"
   ]
  },
  {
   "cell_type": "markdown",
   "metadata": {},
   "source": [
    "---"
   ]
  },
  {
   "cell_type": "markdown",
   "metadata": {},
   "source": [
    "# **Is There Any Difference Between Fans and Non-fans?**\n",
    "One of the questions addressed was \"Is there a bias between people who consider themselves fans of the movies against those who don't?\"\n",
    "\n",
    "People who consider themselves fans of a franchise tend to be more knowledgeable or more appreciative of the material of that franchise. While others who consider themselves just as casual viewers don't think much of the material and only take the movies at face value, in contrast, fans already have some sort of personal connection to them.\n",
    "\n",
    " - Do fans have a higher bias towards the rating of \"The Empire Strikes Back\"? \n",
    " - Or is it common across the majority of the respondents to say that \"The Empire Strikes Back\" is the best of the saga?"
   ]
  },
  {
   "cell_type": "code",
   "execution_count": 8,
   "metadata": {},
   "outputs": [
    {
     "data": {
      "image/png": "[encoded data removed]",
      "text/plain": [
       "<Figure size 432x288 with 1 Axes>"
      ]
     },
     "metadata": {
      "needs_background": "light"
     },
     "output_type": "display_data"
    },
    {
     "name": "stdout",
     "output_type": "stream",
     "text": [
      "\n",
      "\n"
     ]
    },
    {
     "data": {
      "image/png": "[encoded data removed]",
      "text/plain": [
       "<Figure size 432x288 with 1 Axes>"
      ]
     },
     "metadata": {
      "needs_background": "light"
     },
     "output_type": "display_data"
    },
    {
     "name": "stdout",
     "output_type": "stream",
     "text": [
      "\n",
      "\n"
     ]
    }
   ],
   "source": [
    "# create two new dataframes based on whether respondents consider themselves as fans or not\n",
    "fan = star_wars[star_wars['Do you consider yourself to be a fan of the Star Wars film franchise?'] == True]\n",
    "non_fan = star_wars[star_wars['Do you consider yourself to be a fan of the Star Wars film franchise?'] == False]\n",
    "\n",
    "# highest ranked movie amongst fans\n",
    "ranking(df=fan, title='Fan Rankings', y_axis='Average Fan Ranking')\n",
    "# most viewed movie amongst non-fans\n",
    "views(df=fan, title='Fan Views', y_axis='Average Fan View Count')"
   ]
  },
  {
   "cell_type": "code",
   "execution_count": 9,
   "metadata": {},
   "outputs": [
    {
     "data": {
      "image/png": "[encoded data removed]",
      "text/plain": [
       "<Figure size 432x288 with 1 Axes>"
      ]
     },
     "metadata": {
      "needs_background": "light"
     },
     "output_type": "display_data"
    },
    {
     "name": "stdout",
     "output_type": "stream",
     "text": [
      "\n",
      "\n"
     ]
    },
    {
     "data": {
      "image/png": "[encoded data removed]",
      "text/plain": [
       "<Figure size 432x288 with 1 Axes>"
      ]
     },
     "metadata": {
      "needs_background": "light"
     },
     "output_type": "display_data"
    },
    {
     "name": "stdout",
     "output_type": "stream",
     "text": [
      "\n",
      "\n"
     ]
    }
   ],
   "source": [
    "# highest ranked movie amongst non-fans\n",
    "ranking(df=non_fan, title='Non-fan Rankings', y_axis='Average Non-fan Ranking')\n",
    "# most viewed movie amongst non-fans\n",
    "views(df=non_fan, title='Non-fan Views', y_axis='Average Non-fan View Count')"
   ]
  },
  {
   "cell_type": "markdown",
   "metadata": {},
   "source": [
    "# **Findings: Fans vs. Non-Fans**\n",
    "Note that the sample sizes between respondents who consider themselves as fans and those who aren't fans are very different. Instead of comparing the count of people who've seen and rated the movies, it would be better to look at the distributions and trends that fans and non-fans have with each movie. This way, we can see if there's a general consensus or not.\n",
    "\n",
    "**Fans:**\n",
    " - most fans have seen all of the movies\n",
    " - fans are overwhelmingly in favor of rating the Original Trilogy higher than the Prequels\n",
    " - ratings are consistently positive across the Original Trilogy and consistently negative across the Prequels\n",
    " \n",
    "**Non-Fans:**\n",
    " - most non-fans have only seen episode 5 and 6\n",
    " - episode 1 is the most popular and highest ranked of the Prequels amongst non-fans\n",
    " - ratings vary across all movies (interesting how episode 5 is rated almost the same as episode 1)\n",
    " \n",
    "**Commonalities:**\n",
    " - both groups of fans have seen \"The Empire Strikes Back\" the most \n",
    " - both groups of fans have rated \"The Empire Strikes Back\" the highest \n",
    " - both groups of fans have seen \"Revenge of the Sith\" (episode 3) the least\n",
    " - both groups of fans have rated \"Revenge of the Sith\" (episode 3) the lowest"
   ]
  },
  {
   "cell_type": "markdown",
   "metadata": {},
   "source": [
    "---------------------------------------------------------------------------------"
   ]
  },
  {
   "cell_type": "markdown",
   "metadata": {},
   "source": [
    "# **Finding the Most and Least Popular \"Star Wars\" Characters**\n",
    "Another indicator of whether respondents consider \"The Empire Strikes Back\" as the best is to determine how they favor characters who appeared in the Original Trilogy compared to characters who appears in the Prequels. If the character appeared in both the Prequels and Originals, we will characterize them as characters from both trilogies and see has any influence on the respondents' opinions.\n",
    "\n",
    "|Original Trilogy Characters| |Both Trilogies| |Prequel Trilogy Characters|\n",
    "| :----------- | | :----------- | | :----------- |\n",
    "|Han Solo| |Obi Wan Kenobi| |Anakin Skywalker|\n",
    "|Luke Skywalker| |Yoda| |Padme Amidala|\n",
    "|Princess Leia Organa| |Emperor Palpatine| |Jar Jar Binks|\n",
    "|Lando Calrissian| |Darth Vader|\n",
    "|Boba Fett| |C-3P0|\n",
    "| ||R2 D2|"
   ]
  },
  {
   "cell_type": "code",
   "execution_count": 10,
   "metadata": {},
   "outputs": [
    {
     "data": {
      "text/plain": [
       "Index(['Please state whether you view the following characters favorably, unfavorably, or are unfamiliar with him/her.',\n",
       "       'Unnamed: 16', 'Unnamed: 17', 'Unnamed: 18', 'Unnamed: 19',\n",
       "       'Unnamed: 20', 'Unnamed: 21', 'Unnamed: 22', 'Unnamed: 23',\n",
       "       'Unnamed: 24', 'Unnamed: 25', 'Unnamed: 26', 'Unnamed: 27',\n",
       "       'Unnamed: 28'],\n",
       "      dtype='object')"
      ]
     },
     "metadata": {},
     "output_type": "display_data"
    },
    {
     "name": "stdout",
     "output_type": "stream",
     "text": [
      "\n",
      "\n"
     ]
    },
    {
     "data": {
      "text/plain": [
       "Index(['Han Solo', 'Luke Skywalker', 'Princess Leia Organa',\n",
       "       'Anakin Skywalker', 'Obi Wan Kenobi', 'Emperor Palpatine',\n",
       "       'Darth Vader', 'Lando Calrissian', 'Boba Fett', 'C-3P0', 'R2 D2',\n",
       "       'Jar Jar Binks', 'Padme Amidala', 'Yoda'],\n",
       "      dtype='object')"
      ]
     },
     "execution_count": 10,
     "metadata": {},
     "output_type": "execute_result"
    }
   ],
   "source": [
    "# just like the ranking columns, the following columns are checkbox columns to answer a single question about the characters\n",
    "display(star_wars.iloc[:, 15:29].columns)\n",
    "\n",
    "# rename the columns based on the corresponding characters\n",
    "star_wars = star_wars.rename(columns = {\n",
    "                star_wars.columns[15]: \"Han Solo\",\n",
    "                star_wars.columns[16]: \"Luke Skywalker\",\n",
    "                star_wars.columns[17]: \"Princess Leia Organa\",\n",
    "                star_wars.columns[18]: \"Anakin Skywalker\",\n",
    "                star_wars.columns[19]: \"Obi Wan Kenobi\",\n",
    "                star_wars.columns[20]: \"Emperor Palpatine\",\n",
    "                star_wars.columns[21]: \"Darth Vader\",\n",
    "                star_wars.columns[22]: \"Lando Calrissian\",\n",
    "                star_wars.columns[23]: \"Boba Fett\",\n",
    "                star_wars.columns[24]: \"C-3P0\",\n",
    "                star_wars.columns[25]: \"R2 D2\",\n",
    "                star_wars.columns[26]: \"Jar Jar Binks\",\n",
    "                star_wars.columns[27]: \"Padme Amidala\",\n",
    "                star_wars.columns[28]: \"Yoda\"\n",
    "                                        })\n",
    "print(\"\\n\")\n",
    "star_wars.iloc[:, 15:29].columns"
   ]
  },
  {
   "cell_type": "markdown",
   "metadata": {},
   "source": [
    "# **Checking and Dropping Missing Values**\n",
    "We only care about the respondents' opinions about all the characters and whether they have checked all of the boxes. We can see that all of the character columns have roughly about the same number of non-null values. A new dataframe containing only the columns relating to the question: `\"Please state whether you view the following characters favorably, unfavorably, or are unfamiliar with him/her.\"` will be created, with all of the missing values dropped."
   ]
  },
  {
   "cell_type": "code",
   "execution_count": 11,
   "metadata": {},
   "outputs": [
    {
     "name": "stdout",
     "output_type": "stream",
     "text": [
      "<class 'pandas.core.frame.DataFrame'>\n",
      "Int64Index: 1186 entries, 1 to 1186\n",
      "Data columns (total 38 columns):\n",
      " #   Column                                                                 Non-Null Count  Dtype  \n",
      "---  ------                                                                 --------------  -----  \n",
      " 0   RespondentID                                                           1186 non-null   float64\n",
      " 1   Have you seen any of the 6 films in the Star Wars franchise?           1186 non-null   bool   \n",
      " 2   Do you consider yourself to be a fan of the Star Wars film franchise?  836 non-null    object \n",
      " 3   seen_1                                                                 1186 non-null   bool   \n",
      " 4   seen_2                                                                 1186 non-null   bool   \n",
      " 5   seen_3                                                                 1186 non-null   bool   \n",
      " 6   seen_4                                                                 1186 non-null   bool   \n",
      " 7   seen_5                                                                 1186 non-null   bool   \n",
      " 8   seen_6                                                                 1186 non-null   bool   \n",
      " 9   ranking_1                                                              834 non-null    float64\n",
      " 10  ranking_2                                                              834 non-null    float64\n",
      " 11  ranking_3                                                              834 non-null    float64\n",
      " 12  ranking_4                                                              834 non-null    float64\n",
      " 13  ranking_5                                                              834 non-null    float64\n",
      " 14  ranking_6                                                              834 non-null    float64\n",
      " 15  Han Solo                                                               829 non-null    object \n",
      " 16  Luke Skywalker                                                         831 non-null    object \n",
      " 17  Princess Leia Organa                                                   831 non-null    object \n",
      " 18  Anakin Skywalker                                                       823 non-null    object \n",
      " 19  Obi Wan Kenobi                                                         825 non-null    object \n",
      " 20  Emperor Palpatine                                                      814 non-null    object \n",
      " 21  Darth Vader                                                            826 non-null    object \n",
      " 22  Lando Calrissian                                                       820 non-null    object \n",
      " 23  Boba Fett                                                              812 non-null    object \n",
      " 24  C-3P0                                                                  827 non-null    object \n",
      " 25  R2 D2                                                                  830 non-null    object \n",
      " 26  Jar Jar Binks                                                          821 non-null    object \n",
      " 27  Padme Amidala                                                          814 non-null    object \n",
      " 28  Yoda                                                                   826 non-null    object \n",
      " 29  Which character shot first?                                            828 non-null    object \n",
      " 30  Are you familiar with the Expanded Universe?                           828 non-null    object \n",
      " 31  Do you consider yourself to be a fan of the Expanded Universe?ÂÃ¦     213 non-null    object \n",
      " 32  Do you consider yourself to be a fan of the Star Trek franchise?       1068 non-null   object \n",
      " 33  Gender                                                                 1046 non-null   object \n",
      " 34  Age                                                                    1046 non-null   object \n",
      " 35  Household Income                                                       858 non-null    object \n",
      " 36  Education                                                              1036 non-null   object \n",
      " 37  Location (Census Region)                                               1043 non-null   object \n",
      "dtypes: bool(7), float64(7), object(24)\n",
      "memory usage: 304.6+ KB\n"
     ]
    }
   ],
   "source": [
    "star_wars.info()"
   ]
  },
  {
   "cell_type": "code",
   "execution_count": 12,
   "metadata": {},
   "outputs": [
    {
     "name": "stdout",
     "output_type": "stream",
     "text": [
      "<class 'pandas.core.frame.DataFrame'>\n",
      "Int64Index: 1186 entries, 1 to 1186\n",
      "Data columns (total 14 columns):\n",
      " #   Column                Non-Null Count  Dtype \n",
      "---  ------                --------------  ----- \n",
      " 0   Han Solo              829 non-null    object\n",
      " 1   Luke Skywalker        831 non-null    object\n",
      " 2   Princess Leia Organa  831 non-null    object\n",
      " 3   Anakin Skywalker      823 non-null    object\n",
      " 4   Obi Wan Kenobi        825 non-null    object\n",
      " 5   Emperor Palpatine     814 non-null    object\n",
      " 6   Darth Vader           826 non-null    object\n",
      " 7   Lando Calrissian      820 non-null    object\n",
      " 8   Boba Fett             812 non-null    object\n",
      " 9   C-3P0                 827 non-null    object\n",
      " 10  R2 D2                 830 non-null    object\n",
      " 11  Jar Jar Binks         821 non-null    object\n",
      " 12  Padme Amidala         814 non-null    object\n",
      " 13  Yoda                  826 non-null    object\n",
      "dtypes: object(14)\n",
      "memory usage: 139.0+ KB\n",
      "None\n",
      "\n",
      "\n",
      "<class 'pandas.core.frame.DataFrame'>\n",
      "Int64Index: 760 entries, 1 to 1186\n",
      "Data columns (total 14 columns):\n",
      " #   Column                Non-Null Count  Dtype \n",
      "---  ------                --------------  ----- \n",
      " 0   Han Solo              760 non-null    object\n",
      " 1   Luke Skywalker        760 non-null    object\n",
      " 2   Princess Leia Organa  760 non-null    object\n",
      " 3   Anakin Skywalker      760 non-null    object\n",
      " 4   Obi Wan Kenobi        760 non-null    object\n",
      " 5   Emperor Palpatine     760 non-null    object\n",
      " 6   Darth Vader           760 non-null    object\n",
      " 7   Lando Calrissian      760 non-null    object\n",
      " 8   Boba Fett             760 non-null    object\n",
      " 9   C-3P0                 760 non-null    object\n",
      " 10  R2 D2                 760 non-null    object\n",
      " 11  Jar Jar Binks         760 non-null    object\n",
      " 12  Padme Amidala         760 non-null    object\n",
      " 13  Yoda                  760 non-null    object\n",
      "dtypes: object(14)\n",
      "memory usage: 89.1+ KB\n"
     ]
    }
   ],
   "source": [
    "# check for missing values\n",
    "print(star_wars.iloc[:, 15:29].info())\n",
    "print(\"\\n\")\n",
    "\n",
    "# create new dataframe of only the characters\n",
    "characters = star_wars.iloc[:, 15:29]\n",
    "\n",
    "# drop missing values\n",
    "characters = characters.dropna(axis=0)\n",
    "star_wars.iloc[:, 15:29] = characters.dropna(axis=0)\n",
    "\n",
    "characters.info(null_counts=True)"
   ]
  },
  {
   "cell_type": "markdown",
   "metadata": {},
   "source": [
    "# **We Now Have Clean Data!**\n",
    "After checking checking the cleanliness of our data one last time, we now have clean data with only the columns we need for this project. There are multiple slices of columns that are still missing values but that shouldn't pose any problem. An important thing to take note is that the count of non-null values for columns `seen_1`-`seen_6` and `Have you seen any of the 6 films in the Star Wars franchise?` are the same as the `RespondentID` column. This means that everyone who has taken the survey had at least done the minimum of sharing whether they have seen the movies or not. The rest of the columns can be assumed to be auxillary. It is safe to say that not every respondent is compelled to answer every single question the survey wants to ask them."
   ]
  },
  {
   "cell_type": "code",
   "execution_count": 13,
   "metadata": {},
   "outputs": [
    {
     "name": "stdout",
     "output_type": "stream",
     "text": [
      "<class 'pandas.core.frame.DataFrame'>\n",
      "Int64Index: 1186 entries, 1 to 1186\n",
      "Data columns (total 29 columns):\n",
      " #   Column                                                                 Non-Null Count  Dtype  \n",
      "---  ------                                                                 --------------  -----  \n",
      " 0   RespondentID                                                           1186 non-null   float64\n",
      " 1   Have you seen any of the 6 films in the Star Wars franchise?           1186 non-null   bool   \n",
      " 2   Do you consider yourself to be a fan of the Star Wars film franchise?  836 non-null    object \n",
      " 3   seen_1                                                                 1186 non-null   bool   \n",
      " 4   seen_2                                                                 1186 non-null   bool   \n",
      " 5   seen_3                                                                 1186 non-null   bool   \n",
      " 6   seen_4                                                                 1186 non-null   bool   \n",
      " 7   seen_5                                                                 1186 non-null   bool   \n",
      " 8   seen_6                                                                 1186 non-null   bool   \n",
      " 9   ranking_1                                                              834 non-null    float64\n",
      " 10  ranking_2                                                              834 non-null    float64\n",
      " 11  ranking_3                                                              834 non-null    float64\n",
      " 12  ranking_4                                                              834 non-null    float64\n",
      " 13  ranking_5                                                              834 non-null    float64\n",
      " 14  ranking_6                                                              834 non-null    float64\n",
      " 15  Han Solo                                                               760 non-null    object \n",
      " 16  Luke Skywalker                                                         760 non-null    object \n",
      " 17  Princess Leia Organa                                                   760 non-null    object \n",
      " 18  Anakin Skywalker                                                       760 non-null    object \n",
      " 19  Obi Wan Kenobi                                                         760 non-null    object \n",
      " 20  Emperor Palpatine                                                      760 non-null    object \n",
      " 21  Darth Vader                                                            760 non-null    object \n",
      " 22  Lando Calrissian                                                       760 non-null    object \n",
      " 23  Boba Fett                                                              760 non-null    object \n",
      " 24  C-3P0                                                                  760 non-null    object \n",
      " 25  R2 D2                                                                  760 non-null    object \n",
      " 26  Jar Jar Binks                                                          760 non-null    object \n",
      " 27  Padme Amidala                                                          760 non-null    object \n",
      " 28  Yoda                                                                   760 non-null    object \n",
      "dtypes: bool(7), float64(7), object(15)\n",
      "memory usage: 221.2+ KB\n"
     ]
    }
   ],
   "source": [
    "# drop the columns we don't need for this analysis\n",
    "star_wars = star_wars.iloc[:, 0:29]\n",
    "star_wars.info()"
   ]
  },
  {
   "cell_type": "markdown",
   "metadata": {},
   "source": [
    "---"
   ]
  },
  {
   "cell_type": "markdown",
   "metadata": {},
   "source": [
    "# **Using Value Counts to Analyze Every Character's Popularity**"
   ]
  },
  {
   "cell_type": "code",
   "execution_count": 14,
   "metadata": {},
   "outputs": [
    {
     "data": {
      "text/plain": [
       "Very favorably                                 561\n",
       "Somewhat favorably                             138\n",
       "Neither favorably nor unfavorably (neutral)     40\n",
       "Unfamiliar (N/A)                                14\n",
       "Somewhat unfavorably                             6\n",
       "Very unfavorably                                 1\n",
       "Name: Han Solo, dtype: int64"
      ]
     },
     "execution_count": 14,
     "metadata": {},
     "output_type": "execute_result"
    }
   ],
   "source": [
    "characters['Han Solo'].value_counts()"
   ]
  },
  {
   "cell_type": "markdown",
   "metadata": {},
   "source": [
    "# **Our Approach**\n",
    "We are only going to care whether the respondants love, hate, or don't know these characters. So, we will only focus on the following columns (the other values will not be able to add much to our analysis):\n",
    " - `['Very favorably']`\n",
    " - `['Very unfavorably']`\n",
    " - `['Unfamiliar (N/A)']`\n",
    "\n",
    "----\n",
    "\n",
    "Going through the value counts for all the character columns, we will create 3 new dataframes for how many every character got voted on for each unique value that is significant to us."
   ]
  },
  {
   "cell_type": "code",
   "execution_count": 16,
   "metadata": {},
   "outputs": [
    {
     "data": {
      "text/html": [
       "<table><tr style=\"background-color:white;\"><td><div>\n",
       "<style scoped>\n",
       "    .dataframe tbody tr th:only-of-type {\n",
       "        vertical-align: middle;\n",
       "    }\n",
       "\n",
       "    .dataframe tbody tr th {\n",
       "        vertical-align: top;\n",
       "    }\n",
       "\n",
       "    .dataframe thead th {\n",
       "        text-align: right;\n",
       "    }\n",
       "</style>\n",
       "<table border=\"1\" class=\"dataframe\">\n",
       "  <thead>\n",
       "    <tr style=\"text-align: right;\">\n",
       "      <th></th>\n",
       "      <th>Characters</th>\n",
       "      <th>Most Favorite</th>\n",
       "    </tr>\n",
       "  </thead>\n",
       "  <tbody>\n",
       "    <tr>\n",
       "      <th>0</th>\n",
       "      <td>Jar Jar Binks</td>\n",
       "      <td>101</td>\n",
       "    </tr>\n",
       "    <tr>\n",
       "      <th>1</th>\n",
       "      <td>Emperor Palpatine</td>\n",
       "      <td>106</td>\n",
       "    </tr>\n",
       "    <tr>\n",
       "      <th>2</th>\n",
       "      <td>Lando Calrissian</td>\n",
       "      <td>130</td>\n",
       "    </tr>\n",
       "    <tr>\n",
       "      <th>3</th>\n",
       "      <td>Boba Fett</td>\n",
       "      <td>133</td>\n",
       "    </tr>\n",
       "    <tr>\n",
       "      <th>4</th>\n",
       "      <td>Padme Amidala</td>\n",
       "      <td>156</td>\n",
       "    </tr>\n",
       "    <tr>\n",
       "      <th>5</th>\n",
       "      <td>Anakin Skywalker</td>\n",
       "      <td>227</td>\n",
       "    </tr>\n",
       "    <tr>\n",
       "      <th>6</th>\n",
       "      <td>Darth Vader</td>\n",
       "      <td>286</td>\n",
       "    </tr>\n",
       "    <tr>\n",
       "      <th>7</th>\n",
       "      <td>C-3P0</td>\n",
       "      <td>433</td>\n",
       "    </tr>\n",
       "    <tr>\n",
       "      <th>8</th>\n",
       "      <td>Luke Skywalker</td>\n",
       "      <td>504</td>\n",
       "    </tr>\n",
       "    <tr>\n",
       "      <th>9</th>\n",
       "      <td>Princess Leia Organa</td>\n",
       "      <td>505</td>\n",
       "    </tr>\n",
       "    <tr>\n",
       "      <th>10</th>\n",
       "      <td>R2 D2</td>\n",
       "      <td>514</td>\n",
       "    </tr>\n",
       "    <tr>\n",
       "      <th>11</th>\n",
       "      <td>Obi Wan Kenobi</td>\n",
       "      <td>551</td>\n",
       "    </tr>\n",
       "    <tr>\n",
       "      <th>12</th>\n",
       "      <td>Han Solo</td>\n",
       "      <td>561</td>\n",
       "    </tr>\n",
       "    <tr>\n",
       "      <th>13</th>\n",
       "      <td>Yoda</td>\n",
       "      <td>561</td>\n",
       "    </tr>\n",
       "  </tbody>\n",
       "</table>\n",
       "</div></td><td><div>\n",
       "<style scoped>\n",
       "    .dataframe tbody tr th:only-of-type {\n",
       "        vertical-align: middle;\n",
       "    }\n",
       "\n",
       "    .dataframe tbody tr th {\n",
       "        vertical-align: top;\n",
       "    }\n",
       "\n",
       "    .dataframe thead th {\n",
       "        text-align: right;\n",
       "    }\n",
       "</style>\n",
       "<table border=\"1\" class=\"dataframe\">\n",
       "  <thead>\n",
       "    <tr style=\"text-align: right;\">\n",
       "      <th></th>\n",
       "      <th>Characters</th>\n",
       "      <th>Least Favorite</th>\n",
       "    </tr>\n",
       "  </thead>\n",
       "  <tbody>\n",
       "    <tr>\n",
       "      <th>0</th>\n",
       "      <td>Han Solo</td>\n",
       "      <td>1</td>\n",
       "    </tr>\n",
       "    <tr>\n",
       "      <th>1</th>\n",
       "      <td>Luke Skywalker</td>\n",
       "      <td>2</td>\n",
       "    </tr>\n",
       "    <tr>\n",
       "      <th>2</th>\n",
       "      <td>Princess Leia Organa</td>\n",
       "      <td>4</td>\n",
       "    </tr>\n",
       "    <tr>\n",
       "      <th>3</th>\n",
       "      <td>R2 D2</td>\n",
       "      <td>4</td>\n",
       "    </tr>\n",
       "    <tr>\n",
       "      <th>4</th>\n",
       "      <td>Obi Wan Kenobi</td>\n",
       "      <td>5</td>\n",
       "    </tr>\n",
       "    <tr>\n",
       "      <th>5</th>\n",
       "      <td>C-3P0</td>\n",
       "      <td>6</td>\n",
       "    </tr>\n",
       "    <tr>\n",
       "      <th>6</th>\n",
       "      <td>Yoda</td>\n",
       "      <td>6</td>\n",
       "    </tr>\n",
       "    <tr>\n",
       "      <th>7</th>\n",
       "      <td>Lando Calrissian</td>\n",
       "      <td>8</td>\n",
       "    </tr>\n",
       "    <tr>\n",
       "      <th>8</th>\n",
       "      <td>Padme Amidala</td>\n",
       "      <td>31</td>\n",
       "    </tr>\n",
       "    <tr>\n",
       "      <th>9</th>\n",
       "      <td>Anakin Skywalker</td>\n",
       "      <td>36</td>\n",
       "    </tr>\n",
       "    <tr>\n",
       "      <th>10</th>\n",
       "      <td>Boba Fett</td>\n",
       "      <td>42</td>\n",
       "    </tr>\n",
       "    <tr>\n",
       "      <th>11</th>\n",
       "      <td>Emperor Palpatine</td>\n",
       "      <td>119</td>\n",
       "    </tr>\n",
       "    <tr>\n",
       "      <th>12</th>\n",
       "      <td>Darth Vader</td>\n",
       "      <td>135</td>\n",
       "    </tr>\n",
       "    <tr>\n",
       "      <th>13</th>\n",
       "      <td>Jar Jar Binks</td>\n",
       "      <td>195</td>\n",
       "    </tr>\n",
       "  </tbody>\n",
       "</table>\n",
       "</div></td><td><div>\n",
       "<style scoped>\n",
       "    .dataframe tbody tr th:only-of-type {\n",
       "        vertical-align: middle;\n",
       "    }\n",
       "\n",
       "    .dataframe tbody tr th {\n",
       "        vertical-align: top;\n",
       "    }\n",
       "\n",
       "    .dataframe thead th {\n",
       "        text-align: right;\n",
       "    }\n",
       "</style>\n",
       "<table border=\"1\" class=\"dataframe\">\n",
       "  <thead>\n",
       "    <tr style=\"text-align: right;\">\n",
       "      <th></th>\n",
       "      <th>Characters</th>\n",
       "      <th>Least Known</th>\n",
       "    </tr>\n",
       "  </thead>\n",
       "  <tbody>\n",
       "    <tr>\n",
       "      <th>0</th>\n",
       "      <td>Luke Skywalker</td>\n",
       "      <td>6</td>\n",
       "    </tr>\n",
       "    <tr>\n",
       "      <th>1</th>\n",
       "      <td>Princess Leia Organa</td>\n",
       "      <td>7</td>\n",
       "    </tr>\n",
       "    <tr>\n",
       "      <th>2</th>\n",
       "      <td>R2 D2</td>\n",
       "      <td>8</td>\n",
       "    </tr>\n",
       "    <tr>\n",
       "      <th>3</th>\n",
       "      <td>Yoda</td>\n",
       "      <td>8</td>\n",
       "    </tr>\n",
       "    <tr>\n",
       "      <th>4</th>\n",
       "      <td>Darth Vader</td>\n",
       "      <td>9</td>\n",
       "    </tr>\n",
       "    <tr>\n",
       "      <th>5</th>\n",
       "      <td>Obi Wan Kenobi</td>\n",
       "      <td>12</td>\n",
       "    </tr>\n",
       "    <tr>\n",
       "      <th>6</th>\n",
       "      <td>C-3P0</td>\n",
       "      <td>13</td>\n",
       "    </tr>\n",
       "    <tr>\n",
       "      <th>7</th>\n",
       "      <td>Han Solo</td>\n",
       "      <td>14</td>\n",
       "    </tr>\n",
       "    <tr>\n",
       "      <th>8</th>\n",
       "      <td>Anakin Skywalker</td>\n",
       "      <td>46</td>\n",
       "    </tr>\n",
       "    <tr>\n",
       "      <th>9</th>\n",
       "      <td>Jar Jar Binks</td>\n",
       "      <td>99</td>\n",
       "    </tr>\n",
       "    <tr>\n",
       "      <th>10</th>\n",
       "      <td>Boba Fett</td>\n",
       "      <td>124</td>\n",
       "    </tr>\n",
       "    <tr>\n",
       "      <th>11</th>\n",
       "      <td>Lando Calrissian</td>\n",
       "      <td>131</td>\n",
       "    </tr>\n",
       "    <tr>\n",
       "      <th>12</th>\n",
       "      <td>Emperor Palpatine</td>\n",
       "      <td>146</td>\n",
       "    </tr>\n",
       "    <tr>\n",
       "      <th>13</th>\n",
       "      <td>Padme Amidala</td>\n",
       "      <td>151</td>\n",
       "    </tr>\n",
       "  </tbody>\n",
       "</table>\n",
       "</div></td></tr></table>"
      ],
      "text/plain": [
       "<IPython.core.display.HTML object>"
      ]
     },
     "execution_count": 16,
     "metadata": {},
     "output_type": "execute_result"
    }
   ],
   "source": [
    "fav_dict={}\n",
    "least_dict={}\n",
    "unknown_dict={}\n",
    "\n",
    "# remember that characters = star_wars.iloc[:, 15:29]\n",
    "# iterate through the extracted character columns\n",
    "for col in characters.columns:\n",
    "    # extract the value counts of each column in characters into multiple dataframes\n",
    "    stats = pd.DataFrame(characters[col].value_counts())\n",
    "    \n",
    "    # extract every instance of 'Very favorably', iterating through all of the characters (columns)\n",
    "    favor = stats.loc['Very favorably', col]\n",
    "    fav_dict[col] = favor\n",
    "    \n",
    "    # create new dictionary with the items newly sorted by values (ascending order)\n",
    "    fav_dict = dict(sorted(fav_dict.items(), key=lambda item: item[1]))\n",
    "    # .reset_index() to treat the index as a column, and now the series is a dataframe\n",
    "    most_favorite = pd.Series(fav_dict).reset_index().rename(columns = {'index': \"Characters\", 0: 'Most Favorite'})\n",
    "    \n",
    "    least = stats.loc['Very unfavorably', col]\n",
    "    least_dict[col] = least\n",
    "    least_dict = dict(sorted(least_dict.items(), key=lambda item: item[1]))\n",
    "    least_favorite = pd.Series(least_dict).reset_index().rename(columns = {'index': \"Characters\", 0: 'Least Favorite'})\n",
    "    \n",
    "    unknown = stats.loc['Unfamiliar (N/A)', col]\n",
    "    unknown_dict[col] = unknown\n",
    "    unknown_dict = dict(sorted(unknown_dict.items(), key=lambda item: item[1]))\n",
    "    least_known = pd.Series(unknown_dict).reset_index().rename(columns = {'index': \"Characters\", 0: 'Least Known'})\n",
    "\n",
    "'''\n",
    "these are 3 separate dataframes but for the sake of readability, \n",
    "they will be placed next to each other as if they were all one dataframe\n",
    "'''\n",
    "from IPython.core.display import HTML\n",
    "\n",
    "# accepts a list of IpyTable objects and returns a table which contains each IpyTable in a cell\n",
    "def multi_table(table_list):\n",
    "    return HTML(\n",
    "        '<table><tr style=\"background-color:white;\">' + \n",
    "        ''.join(['<td>' + table._repr_html_() + '</td>' for table in table_list]) +\n",
    "        '</tr></table>'\n",
    "    )\n",
    "\n",
    "tables = [most_favorite, least_favorite, least_known]\n",
    "multi_table(tables)"
   ]
  },
  {
   "cell_type": "markdown",
   "metadata": {},
   "source": [
    "# **How Do The Respondants Feel About The Characters?**"
   ]
  },
  {
   "cell_type": "code",
   "execution_count": 17,
   "metadata": {},
   "outputs": [
    {
     "data": {
      "image/png": "[encoded data removed]",
      "text/plain": [
       "<Figure size 432x288 with 1 Axes>"
      ]
     },
     "metadata": {
      "needs_background": "light"
     },
     "output_type": "display_data"
    },
    {
     "name": "stdout",
     "output_type": "stream",
     "text": [
      "\n",
      "\n"
     ]
    },
    {
     "data": {
      "image/png": "[encoded data removed]",
      "text/plain": [
       "<Figure size 432x288 with 1 Axes>"
      ]
     },
     "metadata": {
      "needs_background": "light"
     },
     "output_type": "display_data"
    },
    {
     "name": "stdout",
     "output_type": "stream",
     "text": [
      "\n",
      "\n"
     ]
    },
    {
     "data": {
      "image/png": "[encoded data removed]",
      "text/plain": [
       "<Figure size 432x288 with 1 Axes>"
      ]
     },
     "metadata": {
      "needs_background": "light"
     },
     "output_type": "display_data"
    },
    {
     "name": "stdout",
     "output_type": "stream",
     "text": [
      "\n",
      "\n"
     ]
    }
   ],
   "source": [
    "# we're going to need this color map dictionary to assign each label a specific color\n",
    "map_color = {\n",
    "                'Han Solo': 'grey',\n",
    "          'Luke Skywalker': 'grey',\n",
    "    'Princess Leia Organa': 'grey',\n",
    "        'Lando Calrissian': 'grey',\n",
    "               'Boba Fett': 'grey',\n",
    "          'Obi Wan Kenobi': 'cadetblue',\n",
    "                    'Yoda': 'cadetblue',\n",
    "       'Emperor Palpatine': 'cadetblue',\n",
    "             'Darth Vader': 'cadetblue',\n",
    "                   'C-3P0': 'cadetblue',\n",
    "                   'R2 D2': 'cadetblue',\n",
    "        'Anakin Skywalker': 'salmon',\n",
    "           'Padme Amidala': 'salmon',\n",
    "           'Jar Jar Binks': 'salmon'\n",
    "            }\n",
    "\n",
    "# loop through a list of the 3 new dataframes\n",
    "categories = [most_favorite, least_favorite, least_known]\n",
    "\n",
    "for df in categories:\n",
    "    # /*replace the values in df['Characters'] with color strings by matching with the corresponding dictionary keys in map_color;\n",
    "    #   then after replacing the values, turn df['Characters'] into a list of color strings that maintains \n",
    "    #   the distinct ordering of all characters of each dataframe to pass into the color parameter*/\n",
    "    df.plot.barh(x='Characters', y=df.columns[1], color=df['Characters'].replace(map_color).tolist(), width=0.75)\n",
    "    \n",
    "    plt.title(df.columns[1] + ' Characters', fontsize=16, fontweight='bold', pad=10)\n",
    "\n",
    "    # manually set legend colors and labels with mpatches.Patch()\n",
    "    s_patch = mpatches.Patch(color='salmon', label='Prequel Trilogy')\n",
    "    g_patch = mpatches.Patch(color='grey', label='Original Trilogy')\n",
    "    c_patch = mpatches.Patch(color='cadetblue', label='Both Trilogies')\n",
    "\n",
    "    # pass in patches as a list into handles parameter\n",
    "    plt.legend(handles=[c_patch, g_patch, s_patch], loc='best')\n",
    "\n",
    "    # remove all spines and tick marks\n",
    "    plt.gca().spines['top'].set_visible(False)\n",
    "    plt.gca().spines['right'].set_visible(False)\n",
    "    plt.gca().spines['left'].set_visible(False)\n",
    "    plt.gca().spines['bottom'].set_visible(False)\n",
    "    plt.tick_params(left=False, bottom=False)\n",
    "    \n",
    "    plt.ylabel('Character', fontsize=14, labelpad=10)\n",
    "    plt.xlabel(df.columns[1] + ' Character Count', fontsize=14, labelpad=20)\n",
    "\n",
    "    plt.show()\n",
    "    print('\\n')"
   ]
  },
  {
   "cell_type": "markdown",
   "metadata": {},
   "source": [
    "# **Findings from Visualizing Popularity of Characters**\n",
    "Recall which characters are from the Original or Prequel Trilogies:\n",
    "\n",
    "|Original Trilogy Characters||Both Trilogies| |Prequel Trilogy Characters|\n",
    "| :----------- | | :----------- | | :----------- |\n",
    "|Han Solo| |Obi Wan Kenobi| |Anakin Skywalker|\n",
    "|Luke Skywalker| |Yoda| |Padme Amidala|\n",
    "|Princess Leia Organa| |Emperor Palpatine| |Jar Jar Binks|\n",
    "|Lando Calrissian| |Darth Vader|\n",
    "|Boba Fett| |C-3P0|\n",
    "| ||R2 D2|\n",
    "\n",
    "It is quite clear the most of the characters from the Original Trilogy are overwhemingly favorites amongst the respondents. Since top favorites are characters like `Luke Skywalker` and `Han Solo`, we can assume that the respondents have a bias towards choosing \"The Empire Strikes Back\" as the best movie because their favorite characters are in that movie. \n",
    "\n",
    "We can also see that the respondents are unfamiliar with and not in favor of characters from the prequel trilogy, which positively correlates with the low ratings of the Prequels."
   ]
  },
  {
   "cell_type": "markdown",
   "metadata": {},
   "source": [
    "---"
   ]
  },
  {
   "cell_type": "markdown",
   "metadata": {},
   "source": [
    "# **Conclusion**\n",
    "We have found a sufficient amount of evidence that supports claims from fans the \"Star Wars Episode V: The Empire Strikes Back\" is the best and the most popular movie of the \"Star Wars\" saga. Backing up this evidence includes the fact that many of the most popular characters are from the Original Trilogy while the Prequel Trilogy is both not as well known and not as favored.\n",
    "\n",
    "We went from cleaning all the values and column names of all the columns that we needed, to extracting columns into separate, more specialized dataframes best suited for our needs. From there, we were about to gain significant insights and make evidence supported deductions from multiple visualizations we've created. Our findings support exactly what movies and characters should be promoted and which ones to be more wary of."
   ]
  }
 ],
 "metadata": {
  "kernelspec": {
   "display_name": "Python 3",
   "language": "python",
   "name": "python3"
  },
  "language_info": {
   "codemirror_mode": {
    "name": "ipython",
    "version": 3
   },
   "file_extension": ".py",
   "mimetype": "text/x-python",
   "name": "python",
   "nbconvert_exporter": "python",
   "pygments_lexer": "ipython3",
   "version": "3.8.5"
  }
 },
 "nbformat": 4,
 "nbformat_minor": 4
}
